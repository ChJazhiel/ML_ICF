{
 "cells": [
  {
   "cell_type": "markdown",
   "metadata": {},
   "source": [
    "# Importamos utilidades y definimos constantes"
   ]
  },
  {
   "cell_type": "code",
   "execution_count": 1,
   "metadata": {},
   "outputs": [],
   "source": [
    "import glob\n",
    "import sys\n",
    "import os\n",
    "\n",
    "import numpy as np\n",
    "import math\n",
    "from numpy import linspace\n",
    "from scipy import interpolate\n",
    "from scipy.interpolate import UnivariateSpline\n",
    "import pandas as pd\n",
    "\n",
    "#%matplotlib notebook\n",
    "%matplotlib inline\n",
    "#%matplotlib qt\n",
    "\n",
    "from IPython.display import display\n",
    "import matplotlib.pyplot as plt\n",
    "plt.style.use('classic')\n",
    "from matplotlib.gridspec import GridSpec\n",
    "import matplotlib.gridspec as gridspec\n",
    "from matplotlib.ticker import AutoMinorLocator, MultipleLocator\n",
    "\n",
    "import random\n",
    "\n",
    "#constants and conversion factors \n",
    "pi         = math.pi\n",
    "c          = 299792458.\n",
    "hbar       = 6.62606896/(2*pi)*1e-34\n",
    "e          = 1.6021773*1e-19\n",
    "G          = 6.6738*1e-11\n",
    "Mpc        = 3.085678*1e22   #equivalence m <-> Mpc\n",
    "Modot      = 1.98855e+30     #solar mass in kg\n",
    "kB         = 1.3806504*1e-23\n",
    "Mpl        = math.sqrt(hbar*c/(8*pi*G))*c**2/e        #reduced Planck mass in eV\n",
    "c8piGeVm2  = 16*pi**2*G*e**2/(2*pi*hbar*c**5)         #value of 8piG in eV^-2\n",
    "eV2toMpcm2 = (2*pi*e*Mpc/(c*2*pi*hbar))**2            #conversion factor 1eV^2 = (eV2toMpcm2)*Mpc^-2"
   ]
  },
  {
   "cell_type": "markdown",
   "metadata": {},
   "source": [
    "# Cargamos los valores de la simulación\n"
   ]
  },
  {
   "cell_type": "code",
   "execution_count": 5,
   "metadata": {},
   "outputs": [
    {
     "name": "stdout",
     "output_type": "stream",
     "text": [
      "rho_m background [Modot/Mpc**3]:  38774199065.2\n"
     ]
    }
   ],
   "source": [
    "Lbox    = 200            #size of the box\n",
    "h       = 0.6768         #H0/100\n",
    "Omm     = 0.305          #density parameter of matter\n",
    "\n",
    "#path to gadget & rockstar files\n",
    "snap_ini      =  'path/to/part_00001' \n",
    "#snap_today    = not necessary\n",
    "parents_today = 'path/to/parents.dat'\n",
    "halos_today   = 'path/to/halos_0'\n",
    "\n",
    "#############################################\n",
    "\n",
    "Mpart = 5.05026e+09        #mass resolution (M_\\odot h^{-1}) in our simulations \n",
    "Mlow = 100*Mpart           #lower bound for M \n",
    "Mtop = 150000*Mpart        #upper bound for M\n",
    "nbins = 9                  #number of bins in logM\n",
    "\n",
    "Mth = 1.21e+11  #2             #mass threshold (M_\\odot h^{-1}) to define IN (OUT) classes.  \n",
    "                               ##This threshold was selectedin order to have \n",
    "                               ## approximately 30% of the total particles in the IN class.\n",
    "                               ## Feel free to change the value\n",
    "\n",
    "grid    = 512              #size of the grid\n",
    "wfilter = 'Top-Hat'        #smoothing function\n",
    "#################################################\n",
    "\n",
    "\n",
    "#background density of matter\n",
    "Gc      = G*Modot/(c**2*Mpc)\n",
    "H02     = 1.e10*h**2/(c**2)\n",
    "rho_bar = 3./(8*pi*Gc)*Omm*H02\n",
    "print 'rho_m background [Modot/Mpc**3]: ',rho_bar"
   ]
  },
  {
   "cell_type": "markdown",
   "metadata": {},
   "source": [
    "# Funciones de utilidad"
   ]
  },
  {
   "cell_type": "code",
   "execution_count": 6,
   "metadata": {},
   "outputs": [],
   "source": [
    "def particle_selection(snapshot,nsamples=10):\n",
    "    '''\n",
    "    This function returns a data frame (df) with columns \n",
    "               X   Y   Z   particle_ID \n",
    "    Input:\n",
    "        snapshot: the path of gadget files at some z\n",
    "        nsamples: the number of particles to be selected\n",
    "    Returns:\n",
    "        df containing selected particles   \n",
    "    '''\n",
    "    \n",
    "    #data frame assembly \n",
    "    pid = readsnap(snapshot,'pid','dm')    #this is a numpy array\n",
    "    pos = readsnap(snapshot,'pos','dm')\n",
    "    selection = pd.DataFrame(data=pos,columns=['X','Y','Z'])\n",
    "    selection['particle_ID'] = pid\n",
    "\n",
    "    #here we select the particles to be studied (more efficient than isin)\n",
    "    selection = selection.sample(n=nsamples) \n",
    "    \n",
    "    return selection"
   ]
  },
  {
   "cell_type": "code",
   "execution_count": 7,
   "metadata": {},
   "outputs": [],
   "source": [
    "def particle_labels(selected_particles,halo_parents,halo_bin):\n",
    "    '''\n",
    "    This function uses pygadgetreader to return a label, which tells if a selected particle belongs to some \n",
    "    halo whose mass is above Mth   \n",
    "    Input:\n",
    "        selected_particles: df of selected particles consisting of position (X,Y,Z) and PID\n",
    "        halo_parents      : path of the 'parents.dat' file produced by rockstar\n",
    "        halo_bin          : path of the bin files produced by rockstar\n",
    "    Returns:\n",
    "        selected_flags    : array of flags, which tells if a selected particle belongs to some halo (True) or if\n",
    "                            the particle is free (False)\n",
    "        selected_hosts    : array of the IDs of the host halos containing the selected particles \n",
    "                            (-1 for free particles)\n",
    "        selected_mass     : array with the mass of the host halos containing the selected particles\n",
    "                            (-1 for free particles)\n",
    "        selected_input    : array of integers, which tell if a selected particle belongs to some halo whose mass is\n",
    "                            above Mth (1) or if the mass of the host halo is smaller than Mth (0) or if the \n",
    "                            particle is free (0)\n",
    "        Warning: selected_flags is not the same as selected_input!\n",
    "    '''\n",
    "    #here we retrieve the IDs of the parent halos from 'parents.dat'\n",
    "    \n",
    "    \n",
    "    #######Warning####\n",
    "    ## Rockstar3 returns additional columns on its files, so be sure to check out\n",
    "    ### the input in the 'columns' definition\n",
    "    \n",
    "    \n",
    "    #columns = ['ID','DescID','M200c','Vmax','Vrms','R200c','Rs','Np','X','Y','Z','VX','VY','VZ','JX','JY','JZ',\n",
    "               #'Spin','rs_klypin','M200c_all','M200b','M200c','M500c','M2500c','Xoff','Voff','spin_bullock',\n",
    "               #'b_to_a','c_to_a','A[x]','A[y]','A[z]','b_to_a(500c)','PID']\n",
    "    columns = ['ID','DescID','M200c','Vmax','Vrms','R200c','Rs','Np','X','Y','Z,','VX','VY','VZ','JX','JY','JZ',\n",
    "               'Spin','rs_klypin','M200c_all','M200b','M200c','M500c','M2500c','Xoff','Voff','spin_bullock',\n",
    "               'b_to_a', 'c_to_a','A[x]','A[y]','A[z]','b_to_a(500c)','c_to_a(500c)', 'A[x](500c)','A[y](500c)',\n",
    "               'A[z](500c)','T/|U|','M_pe_Behroozi', 'M_pe_Diemer','Halfmass_Radius','PID']\n",
    "    hosts = pd.read_csv(halo_parents,sep=\"\\s+\",skiprows=16,header=None)\n",
    "    hosts.columns = columns\n",
    "    hosts = hosts[hosts['PID']==-1]              #we filter out subhalos\n",
    "    hosts_list = hosts['ID'].values.tolist()     #we export this array to a list\n",
    "\n",
    "    #particles_hosts is a df consisting of two columns: particle_ID  & halo_ID (see pygadgetreader documentation),\n",
    "    #where 'particle_ID' lists the IDs of the particles and 'halo_ID' lists the IDs of the host halos.\n",
    "    #After constructing the df, we filter out subhalos\n",
    "    temp = readrockstar(halo_bin,'particles')\n",
    "    particles_hosts = pd.DataFrame(data=temp,columns=['particle_ID','halo_ID'])\n",
    "    #here we remove subhalos from 'particles_hosts'\n",
    "    particles_hosts = particles_hosts[particles_hosts['halo_ID'].isin(hosts_list)]\n",
    "\n",
    "    #loop over selected particles\n",
    "    selected_flags = []\n",
    "    selected_hosts = np.zeros(len(selected_particles))\n",
    "    selected_mass  = np.zeros(len(selected_particles))\n",
    "    \n",
    "    pid = selected_particles['particle_ID'].values\n",
    "    \n",
    "    for idx in range(0,len(pid)):\n",
    "        if idx%1000 == 0:\n",
    "            print( 'processing {} samples'.format(idx))\n",
    "                \n",
    "        #we determine whether a particle is free or belongs to some halo\n",
    "        flag = pid[idx] in particles_hosts['particle_ID'].values\n",
    "        selected_flags.append(flag)\n",
    "        \n",
    "        if flag == False:\n",
    "            selected_hosts[idx] = -1\n",
    "            selected_mass[idx]  = -1\n",
    "        else:\n",
    "            #if selected particle belongs to some halo, we find the ID of the host\n",
    "            temp_df = particles_hosts[particles_hosts['particle_ID'] == pid[idx]]\n",
    "            #we use [0] to extract the single element of this array\n",
    "            temp_id = temp_df['halo_ID'].values[0]\n",
    "            selected_hosts[idx] = temp_id\n",
    "            \n",
    "            #we compute the mass of the host by counting the number of particles it contains\n",
    "            temp_df = particles_hosts[particles_hosts['halo_ID'] == temp_id]\n",
    "            selected_mass[idx] = len(temp_df)*Mpart               \n",
    "    \n",
    "    #labels (1/0) indicating if a selected particle belongs to some halo whose mass is above Mth or not\n",
    "    selected_labels = (selected_mass >= Mth)*1\n",
    "    \n",
    "    return selected_flags, selected_hosts, selected_mass, selected_labels"
   ]
  },
  {
   "cell_type": "code",
   "execution_count": 8,
   "metadata": {},
   "outputs": [],
   "source": [
    "def deltaR_grid(snapshot,R,ngrid,wfunc):       \n",
    "    '''\n",
    "    This function uses pylians to compute the smooth density field for each cell in a rectangular grid\n",
    "    Input:\n",
    "        snpapshot: the path of gadget files at some z\n",
    "        R        : the smoothing scale [in h^{-1} Mpc]\n",
    "        ngrid    : the grid size \n",
    "        wfunc    : the filter function\n",
    "    Returns:\n",
    "        delta_grid : overdensity field in each cell: delta_m = (rho-\\bar{\\rho})/\\bar{rho}\n",
    "        deltaR_grid: smoothed density field on some scale R    \n",
    "    '''\n",
    "    \n",
    "    #we first compute the density field rho (see pylians documentation)\n",
    "    ptypes = [1]     #is CDM particles\n",
    "    MAS    = 'CIC'   #cloud in cell\n",
    "    do_RSD = False\n",
    "    axis   = 0\n",
    "    rho    = MASL.density_field_gadget(snapshot,ptypes,ngrid,MAS,do_RSD,axis)\n",
    "    #then we compute \\delta_m\n",
    "    delta_grid = rho/np.mean(rho,dtype=np.float64)\n",
    "    delta_grid -= 1.0\n",
    "    \n",
    "    #smoothing\n",
    "    threads = 4\n",
    "    W_k = SL.FT_filter(Lbox,R,ngrid,wfunc,threads)  #Fourier transform of the filter function\n",
    "    deltaR_grid = SL.field_smoothing(delta_grid,W_k,threads)    \n",
    "    \n",
    "    return delta_grid, deltaR_grid"
   ]
  },
  {
   "cell_type": "code",
   "execution_count": 9,
   "metadata": {},
   "outputs": [],
   "source": [
    "def input_vectors(snapshot,selected_particles):\n",
    "    '''\n",
    "    This function returns the input vectors to be analized by the AI algorithm\n",
    "    Input:\n",
    "        snapshot          : the path of gadget files at some z\n",
    "        selected_particles: df of selected particles with columns: X  Y  Z  particle_ID\n",
    "    Returns:\n",
    "        input_vectors     : numpy array of shape (num_features,num_samples), where 'num_features'\n",
    "                            refers to the different smoothing scales determined by Mlow, Mtop and\n",
    "                            nbins. 'num_samples' refers to the number of selected particles to track                            \n",
    "    '''\n",
    "    #num_features: uniform spacing in logM\n",
    "    logMlow = math.log10(Mlow)\n",
    "    logMtop = math.log10(Mtop)\n",
    "    logM    = np.linspace(logMlow,logMtop,num=nbins+1,endpoint=True)    \n",
    "    num_features = len(logM)\n",
    "    \n",
    "    num_samples  = len(selected_particles)\n",
    "    \n",
    "    input_vectors = np.zeros((num_features,num_samples))\n",
    "    \n",
    "    #size of cells in h^{-1} kpc\n",
    "    dl = Lbox*1000./grid\n",
    "    \n",
    "    #loop over features (that is, over the smoothed density field on different mass scales)\n",
    "    for i in range(0,num_features):\n",
    "        M    = 10**logM[i]    #mass scale in h^{-1}M_\\odot\n",
    "        Mabs = M/h            #mass scale in M_\\odot\n",
    "        Rabs = (Mabs/((4.*pi/3)*rho_bar))**(1./3) #conversion to radius scale. Rabs is in Mpc\n",
    "        R    = Rabs*h         #radius scale in h^{-1}Mpc        \n",
    "        delta_temp,deltaR_temp = deltaR_grid(snapshot,R,grid,wfilter)\n",
    "        print ('mass scale [h^-1 M_\\odot]: {:.5E}, length scale [h^-1 Mpc]: {:.5E}'.format(M,R))\n",
    "        \n",
    "        #once we get delta_R in the whole grid, we get delta_R in cells containing the selected particles\n",
    "        #we use dl to locate the three indexes of these cells in the grid\n",
    "        for j in range(0,num_samples):\n",
    "            idx = int(selected_particles.iloc[j]['X']/dl)\n",
    "            idy = int(selected_particles.iloc[j]['Y']/dl)\n",
    "            idz = int(selected_particles.iloc[j]['Z']/dl)\n",
    "            \n",
    "            #finally, we fill in the info\n",
    "            input_vectors[i][j] = deltaR_temp[idx][idy][idz]\n",
    "    \n",
    "    return input_vectors\n"
   ]
  },
  {
   "cell_type": "markdown",
   "metadata": {},
   "source": [
    "# Aquí viene lo interesante y tricky"
   ]
  },
  {
   "cell_type": "markdown",
   "metadata": {},
   "source": [
    "Es de gran vitalidad haber instalado pygadgetreader y pylians antes de correr todo el notebook, al momento de hacerlo es conveniente localizar su dirección, ya que hay una misma función definida en ambos programas es necesario removerlo, en este ejemplo yo tengo pygadgetreader y Pylians en la misma dirección"
   ]
  },
  {
   "cell_type": "code",
   "execution_count": 11,
   "metadata": {},
   "outputs": [
    {
     "data": {
      "text/plain": [
       "['',\n",
       " '/home/jazhiel/Escritorio/Maestria/Machine_Learning/Cosmology_ML/pygadgetreader',\n",
       " '/home/jazhiel/Escritorio/Maestria/Machine_Learning/Cosmology_ML',\n",
       " '/home/jazhiel/anaconda2/lib/python27.zip',\n",
       " '/home/jazhiel/anaconda2/lib/python2.7',\n",
       " '/home/jazhiel/anaconda2/lib/python2.7/plat-linux2',\n",
       " '/home/jazhiel/anaconda2/lib/python2.7/lib-tk',\n",
       " '/home/jazhiel/anaconda2/lib/python2.7/lib-old',\n",
       " '/home/jazhiel/anaconda2/lib/python2.7/lib-dynload',\n",
       " '/home/jazhiel/.local/lib/python2.7/site-packages',\n",
       " '/home/jazhiel/anaconda2/lib/python2.7/site-packages',\n",
       " '/home/jazhiel/anaconda2/lib/python2.7/site-packages/Pylians-0.0.0-py2.7-linux-x86_64.egg',\n",
       " '/home/jazhiel/anaconda2/lib/python2.7/site-packages',\n",
       " '/home/jazhiel/.local/lib/python2.7/site-packages/IPython/extensions',\n",
       " '/home/jazhiel/.ipython']"
      ]
     },
     "execution_count": 11,
     "metadata": {},
     "output_type": "execute_result"
    }
   ],
   "source": [
    "import sys\n",
    "sys.path"
   ]
  },
  {
   "cell_type": "markdown",
   "metadata": {},
   "source": [
    "primero remuevo pygadgetreader y otras direcciones que puedan tener conflicto con otras, por ejemplo las librerias de Pylians, es posible que cada computadora tenga diferentes direcciones, te darás cuenta al ejecutar"
   ]
  },
  {
   "cell_type": "code",
   "execution_count": 12,
   "metadata": {},
   "outputs": [
    {
     "data": {
      "text/plain": [
       "['',\n",
       " '/home/jazhiel/anaconda2/lib/python27.zip',\n",
       " '/home/jazhiel/anaconda2/lib/python2.7',\n",
       " '/home/jazhiel/anaconda2/lib/python2.7/plat-linux2',\n",
       " '/home/jazhiel/anaconda2/lib/python2.7/lib-tk',\n",
       " '/home/jazhiel/anaconda2/lib/python2.7/lib-old',\n",
       " '/home/jazhiel/anaconda2/lib/python2.7/lib-dynload',\n",
       " '/home/jazhiel/anaconda2/lib/python2.7/site-packages',\n",
       " '/home/jazhiel/anaconda2/lib/python2.7/site-packages',\n",
       " '/home/jazhiel/.local/lib/python2.7/site-packages/IPython/extensions',\n",
       " '/home/jazhiel/.ipython']"
      ]
     },
     "execution_count": 12,
     "metadata": {},
     "output_type": "execute_result"
    }
   ],
   "source": [
    "sys.path.remove('/home/jazhiel/Escritorio/Maestria/Machine_Learning/Cosmology_ML')\n",
    "sys.path.remove('/home/jazhiel/Escritorio/Maestria/Machine_Learning/Cosmology_ML/pygadgetreader')\n",
    "sys.path.remove('/home/jazhiel/.local/lib/python2.7/site-packages')\n",
    "#sys.path.remove('/home/jazhiel/Escritorio/Maestria/Machine_Learning/Cosmology_ML/Pylians/library/build/lib.linux-x86_64-2.7')\n",
    "sys.path.remove('/home/jazhiel/anaconda2/lib/python2.7/site-packages/Pylians-0.0.0-py2.7-linux-x86_64.egg')\n",
    "\n",
    "sys.path"
   ]
  },
  {
   "cell_type": "markdown",
   "metadata": {},
   "source": [
    "Aqui volví a cargar pygadgetreader dado que es la primera función que se utiliza para rastrear las partiulas de materia oscura en los datos"
   ]
  },
  {
   "cell_type": "code",
   "execution_count": 13,
   "metadata": {},
   "outputs": [],
   "source": [
    "#se carga pygadgetreader\n",
    "#import sys\n",
    "sys.path.append('/home/jazhiel/Escritorio/Maestria/Machine_Learning/Cosmology_ML/pygadgetreader')\n",
    "#sys.path.remove('/home/jazhiel/anaconda2/lib/python2.7/site-packages/pyGadgetReader-2.6-py2.7.egg')  #('/home/ealmaraz/software/pygadgetreader')    \n",
    "sys.path.append('/usr/local/lib/python2.7/dist-packages/pyGadgetReader-2.6-py2.7.egg')\n",
    "from pygadgetreader import *\n",
    "\n",
    "#selected_particles\n",
    "\n"
   ]
  },
  {
   "cell_type": "markdown",
   "metadata": {},
   "source": [
    "el siguiente comando inicia a rastrear los samples de la snap inicial y regresa un arreglo con su particle ID, es decir su posicion (ver función particle_selection).\n",
    "\n",
    "Para esta cantidad de partículas el notebook tarda bastante, en mi máquina tarda de dos a tres horas, asi que paciencia"
   ]
  },
  {
   "cell_type": "code",
   "execution_count": 16,
   "metadata": {},
   "outputs": [],
   "source": [
    "selected_particles = particle_selection(snap_ini,50000)\n",
    "\n",
    "selected_particles"
   ]
  },
  {
   "cell_type": "markdown",
   "metadata": {},
   "source": [
    "es en este punto donde se definen los hosts, mass, flags y labels\n"
   ]
  },
  {
   "cell_type": "code",
   "execution_count": 17,
   "metadata": {},
   "outputs": [],
   "source": [
    "test_flags, test_hosts, test_mass, test_labels = particle_labels(selected_particles,parents_today,halos_today)"
   ]
  },
  {
   "cell_type": "markdown",
   "metadata": {},
   "source": [
    "en dado caso que hayas tenido problemas no hay worries, Erick tuvo la amabilidad de crear un diccionario con las particulas"
   ]
  },
  {
   "cell_type": "code",
   "execution_count": 19,
   "metadata": {},
   "outputs": [
    {
     "name": "stdout",
     "output_type": "stream",
     "text": [
      "[-1.00000000e+00 -1.00000000e+00 -1.00000000e+00 ...  3.43922706e+12\n",
      "  3.73214214e+12 -1.00000000e+00]\n",
      "50000\n"
     ]
    }
   ],
   "source": [
    "dict_data = np.load('nbody_data.npz')\n",
    "test_flags  = dict_data['test_flags']\n",
    "test_hosts  = dict_data['test_hosts']\n",
    "test_mass   = dict_data['test_mass']\n",
    "test_labels = dict_data['test_labels']\n",
    "test_input  = dict_data['test_input']\n",
    "#test_snid   = dict_data['test_snid']\n",
    "#test_labels = dict_data['test_labels']\n",
    "print(test_mass)\n",
    "print(len(test_labels))\n"
   ]
  },
  {
   "cell_type": "markdown",
   "metadata": {},
   "source": [
    "Ahora removemos pygadgetreader, todo lo que tenga que ver con sus librerias y el modulo 'pygadgetreader' y 'readgadget', que tambien usa pylians"
   ]
  },
  {
   "cell_type": "code",
   "execution_count": 20,
   "metadata": {},
   "outputs": [
    {
     "data": {
      "text/plain": [
       "['',\n",
       " '/home/jazhiel/anaconda2/lib/python27.zip',\n",
       " '/home/jazhiel/anaconda2/lib/python2.7',\n",
       " '/home/jazhiel/anaconda2/lib/python2.7/plat-linux2',\n",
       " '/home/jazhiel/anaconda2/lib/python2.7/lib-tk',\n",
       " '/home/jazhiel/anaconda2/lib/python2.7/lib-old',\n",
       " '/home/jazhiel/anaconda2/lib/python2.7/lib-dynload',\n",
       " '/home/jazhiel/anaconda2/lib/python2.7/site-packages',\n",
       " '/home/jazhiel/anaconda2/lib/python2.7/site-packages',\n",
       " '/home/jazhiel/.local/lib/python2.7/site-packages/IPython/extensions',\n",
       " '/home/jazhiel/.ipython']"
      ]
     },
     "execution_count": 20,
     "metadata": {},
     "output_type": "execute_result"
    }
   ],
   "source": [
    "sys.path.remove('/home/jazhiel/Escritorio/Maestria/Machine_Learning/Cosmology_ML/pygadgetreader')\n",
    "sys.path.remove('/usr/local/lib/python2.7/dist-packages/pyGadgetReader-2.6-py2.7.egg')\n",
    "del sys.modules['pygadgetreader']\n",
    "del sys.modules['readgadget']  \n",
    "sys.path"
   ]
  },
  {
   "cell_type": "markdown",
   "metadata": {},
   "source": [
    "Cargamos ahora pylians\n"
   ]
  },
  {
   "cell_type": "code",
   "execution_count": 21,
   "metadata": {},
   "outputs": [],
   "source": [
    "sys.path.append('/home/jazhiel/Escritorio/Maestria/Machine_Learning/Cosmology_ML/Pylians/library/build/lib.linux-x86_64-2.7')\n",
    "import sys \n",
    "sys.path.append('/home/jazhiel/anaconda2/lib/python2.7/site-packages/Pylians-0.0.0-py2.7-linux-x86_64.egg')\n",
    "import smoothing_library as SL\n",
    "import MAS_library as MASL"
   ]
  },
  {
   "cell_type": "markdown",
   "metadata": {},
   "source": [
    "como se menciona antes, input_vectors utiliza pylians para localizar las particulas, sus vectores que seran el input para las pruebas de machine learning"
   ]
  },
  {
   "cell_type": "code",
   "execution_count": 22,
   "metadata": {},
   "outputs": [],
   "source": [
    "test_input = input_vectors(snap_ini,selected_particles)\n",
    "print test_input"
   ]
  },
  {
   "cell_type": "markdown",
   "metadata": {},
   "source": [
    "# Cross check $\\delta r $ vs $M_{\\odot}$"
   ]
  },
  {
   "cell_type": "markdown",
   "metadata": {},
   "source": [
    "Esta parte utiliza los test_input para graficarlos en función de la escala a la que se encontraban y su trayectoria, el eje X es la masa en masas solares y el eje y la escala a la que se encontraban"
   ]
  },
  {
   "cell_type": "code",
   "execution_count": 23,
   "metadata": {},
   "outputs": [
    {
     "data": {
      "image/png": "[encoded data removed]",
      "text/plain": [
       "<Figure size 648x432 with 1 Axes>"
      ]
     },
     "metadata": {
      "needs_background": "light"
     },
     "output_type": "display_data"
    }
   ],
   "source": [
    "\n",
    "fig = plt.figure(figsize=(9,6))\n",
    "ax = plt.subplot(111)\n",
    "\n",
    "\n",
    "logMlow = math.log10(Mlow)\n",
    "logMtop = math.log10(Mtop)\n",
    "logM    = np.linspace(logMlow,logMtop,num=nbins+1,endpoint=True) \n",
    "\n",
    "samples = random.sample(range(0,100),10)\n",
    "colors  = ['blue','magenta','black','maroon','lightcoral','darkorange','cyan','green','red','lime']\n",
    "\n",
    "for idx in range(0,10):\n",
    "    plt.plot(10**logM,test_input[:,samples[idx]],'-',color=colors[idx],linewidth=1.3)\n",
    "\n",
    "plt.hlines(0,Mlow,Mtop,colors='red',linestyles='dotted',linewidth=1.5)\n",
    "\n",
    "plt.xlabel('$M$',fontsize=20)\n",
    "plt.xscale('log')\n",
    "plt.xlim([Mlow,Mtop])\n",
    "plt.ylabel('$\\delta_R$',fontsize=20)\n",
    "plt.ylim([-0.15,0.15])\n",
    "minorLocatorY = AutoMinorLocator()\n",
    "ax.yaxis.set_minor_locator(minorLocatorY)\n",
    "plt.tick_params(which='major', length=6)\n",
    "plt.tick_params(which='minor', length=3, color='black')"
   ]
  },
  {
   "cell_type": "markdown",
   "metadata": {},
   "source": [
    "# Prueba para un perceptron (red neuronal)"
   ]
  },
  {
   "cell_type": "markdown",
   "metadata": {},
   "source": [
    "Se define la función de matriz de confusión"
   ]
  },
  {
   "cell_type": "code",
   "execution_count": 24,
   "metadata": {},
   "outputs": [],
   "source": [
    "from sklearn.metrics import confusion_matrix\n",
    "from sklearn.utils.multiclass import unique_labels\n",
    "def plot_confusion_matrix(y_true, y_pred, classes,\n",
    "                          normalize=False,\n",
    "                          title=None,\n",
    "                          cmap=plt.cm.Blues):\n",
    "    \"\"\"\n",
    "    This function prints and plots the confusion matrix.\n",
    "    Normalization can be applied by setting `normalize=True`.\n",
    "    \"\"\"\n",
    "    if not title:\n",
    "        if normalize:\n",
    "            title = 'Normalized confusion matrix'\n",
    "        else:\n",
    "            title = 'Confusion matrix, without normalization'\n",
    "\n",
    "    # Compute confusion matrix\n",
    "    cm = confusion_matrix(y_true, y_pred)\n",
    "    # Only use the labels that appear in the data\n",
    "    classes = classes\n",
    "    if normalize:\n",
    "        cm = cm.astype('float') / cm.sum(axis=1)[:, np.newaxis]\n",
    "        print(\"Normalized confusion matrix\")\n",
    "    else:\n",
    "        print('Confusion matrix, without normalization')\n",
    "\n",
    "    print(cm)\n",
    "\n",
    "    fig, ax = plt.subplots()\n",
    "    im = ax.imshow(cm, interpolation='nearest', cmap=cmap)\n",
    "    ax.figure.colorbar(im, ax=ax)\n",
    "    # We want to show all ticks...\n",
    "    ax.set(xticks=np.arange(cm.shape[1]),\n",
    "           yticks=np.arange(cm.shape[0]),\n",
    "           # ... and label them with the respective list entries\n",
    "           xticklabels=classes, yticklabels=classes,\n",
    "           title=title,\n",
    "           ylabel='True label',\n",
    "           xlabel='Predicted label')\n",
    "\n",
    "    # Rotate the tick labels and set their alignment.\n",
    "    plt.setp(ax.get_xticklabels(), rotation=45, ha=\"right\",\n",
    "             rotation_mode=\"anchor\")\n",
    "\n",
    "    # Loop over data dimensions and create text annotations.\n",
    "    fmt = '.2f' if normalize else 'd'\n",
    "    thresh = cm.max() / 2.\n",
    "    for i in range(cm.shape[0]):\n",
    "        for j in range(cm.shape[1]):\n",
    "            ax.text(j, i, format(cm[i, j], fmt),\n",
    "                    ha=\"center\", va=\"center\",\n",
    "                    color=\"white\" if cm[i, j] > thresh else \"black\")\n",
    "    fig.tight_layout()\n",
    "    return ax\n",
    "\n",
    "\n",
    "np.set_printoptions(precision=2)"
   ]
  },
  {
   "cell_type": "markdown",
   "metadata": {},
   "source": [
    "Para esta red estoy haciendo una prueba recursiva de 10 eventos (iterations = 10) se tienen 121 parametros, (10 * 10) de las layers, 10 de la funcion de activacion y los 10 parametros de entrada y uno de salida"
   ]
  },
  {
   "cell_type": "code",
   "execution_count": 25,
   "metadata": {},
   "outputs": [
    {
     "name": "stderr",
     "output_type": "stream",
     "text": [
      "Using TensorFlow backend.\n"
     ]
    },
    {
     "name": "stdout",
     "output_type": "stream",
     "text": [
      "12500\n",
      "Model: \"sequential_1\"\n",
      "_________________________________________________________________\n",
      "Layer (type)                 Output Shape              Param #   \n",
      "=================================================================\n",
      "dense_1 (Dense)              (None, 10)                110       \n",
      "_________________________________________________________________\n",
      "dense_2 (Dense)              (None, 1)                 11        \n",
      "=================================================================\n",
      "Total params: 121\n",
      "Trainable params: 121\n",
      "Non-trainable params: 0\n",
      "_________________________________________________________________\n",
      "Train on 37500 samples, validate on 12500 samples\n",
      "Epoch 1/20\n",
      "37500/37500 [==============================] - 3s 93us/step - loss: 0.6014 - accuracy: 0.7424 - val_loss: 0.5239 - val_accuracy: 0.7662\n",
      "Epoch 2/20\n",
      "37500/37500 [==============================] - 2s 58us/step - loss: 0.4871 - accuracy: 0.7750 - val_loss: 0.4776 - val_accuracy: 0.7676\n",
      "Epoch 3/20\n",
      "37500/37500 [==============================] - 2s 60us/step - loss: 0.4680 - accuracy: 0.7776 - val_loss: 0.4731 - val_accuracy: 0.7678\n",
      "Epoch 4/20\n",
      "37500/37500 [==============================] - 2s 65us/step - loss: 0.4644 - accuracy: 0.7777 - val_loss: 0.4696 - val_accuracy: 0.7738\n",
      "Epoch 5/20\n",
      "37500/37500 [==============================] - 2s 60us/step - loss: 0.4615 - accuracy: 0.7786 - val_loss: 0.4667 - val_accuracy: 0.7738\n",
      "Epoch 6/20\n",
      "37500/37500 [==============================] - 2s 57us/step - loss: 0.4589 - accuracy: 0.7793 - val_loss: 0.4644 - val_accuracy: 0.7751\n",
      "Epoch 7/20\n",
      "37500/37500 [==============================] - 2s 59us/step - loss: 0.4573 - accuracy: 0.7801 - val_loss: 0.4630 - val_accuracy: 0.7738\n",
      "Epoch 8/20\n",
      "37500/37500 [==============================] - 2s 59us/step - loss: 0.4561 - accuracy: 0.7805 - val_loss: 0.4619 - val_accuracy: 0.7756\n",
      "Epoch 9/20\n",
      "37500/37500 [==============================] - 2s 57us/step - loss: 0.4554 - accuracy: 0.7810 - val_loss: 0.4619 - val_accuracy: 0.7752\n",
      "Epoch 10/20\n",
      "37500/37500 [==============================] - 2s 62us/step - loss: 0.4551 - accuracy: 0.7806 - val_loss: 0.4612 - val_accuracy: 0.7749\n",
      "Epoch 11/20\n",
      "37500/37500 [==============================] - 2s 60us/step - loss: 0.4547 - accuracy: 0.7811 - val_loss: 0.4610 - val_accuracy: 0.7755\n",
      "Epoch 12/20\n",
      "37500/37500 [==============================] - 2s 61us/step - loss: 0.4546 - accuracy: 0.7801 - val_loss: 0.4608 - val_accuracy: 0.7763\n",
      "Epoch 13/20\n",
      "37500/37500 [==============================] - 2s 61us/step - loss: 0.4544 - accuracy: 0.7801 - val_loss: 0.4608 - val_accuracy: 0.7757\n",
      "Epoch 14/20\n",
      "37500/37500 [==============================] - 2s 63us/step - loss: 0.4543 - accuracy: 0.7801 - val_loss: 0.4609 - val_accuracy: 0.7759\n",
      "Epoch 15/20\n",
      "37500/37500 [==============================] - 2s 63us/step - loss: 0.4543 - accuracy: 0.7798 - val_loss: 0.4605 - val_accuracy: 0.7764\n",
      "Epoch 16/20\n",
      "37500/37500 [==============================] - 2s 63us/step - loss: 0.4542 - accuracy: 0.7799 - val_loss: 0.4605 - val_accuracy: 0.7760\n",
      "Epoch 17/20\n",
      "37500/37500 [==============================] - 2s 63us/step - loss: 0.4541 - accuracy: 0.7801 - val_loss: 0.4605 - val_accuracy: 0.7759\n",
      "Epoch 18/20\n",
      "37500/37500 [==============================] - 2s 63us/step - loss: 0.4540 - accuracy: 0.7800 - val_loss: 0.4604 - val_accuracy: 0.7759\n",
      "Epoch 19/20\n",
      "37500/37500 [==============================] - 2s 64us/step - loss: 0.4539 - accuracy: 0.7804 - val_loss: 0.4606 - val_accuracy: 0.7769\n",
      "Epoch 20/20\n",
      "37500/37500 [==============================] - 2s 64us/step - loss: 0.4539 - accuracy: 0.7801 - val_loss: 0.4602 - val_accuracy: 0.7762\n",
      "Model: \"sequential_2\"\n",
      "_________________________________________________________________\n",
      "Layer (type)                 Output Shape              Param #   \n",
      "=================================================================\n",
      "dense_3 (Dense)              (None, 10)                110       \n",
      "_________________________________________________________________\n",
      "dense_4 (Dense)              (None, 1)                 11        \n",
      "=================================================================\n",
      "Total params: 121\n",
      "Trainable params: 121\n",
      "Non-trainable params: 0\n",
      "_________________________________________________________________\n",
      "Train on 37500 samples, validate on 12500 samples\n",
      "Epoch 1/20\n",
      "37500/37500 [==============================] - 3s 67us/step - loss: 0.5947 - accuracy: 0.7293 - val_loss: 0.5159 - val_accuracy: 0.7546\n",
      "Epoch 2/20\n",
      "37500/37500 [==============================] - 2s 62us/step - loss: 0.4797 - accuracy: 0.7722 - val_loss: 0.4713 - val_accuracy: 0.7692\n",
      "Epoch 3/20\n",
      "37500/37500 [==============================] - 2s 62us/step - loss: 0.4625 - accuracy: 0.7778 - val_loss: 0.4664 - val_accuracy: 0.7730\n",
      "Epoch 4/20\n",
      "37500/37500 [==============================] - 2s 62us/step - loss: 0.4591 - accuracy: 0.7798 - val_loss: 0.4638 - val_accuracy: 0.7747\n",
      "Epoch 5/20\n",
      "37500/37500 [==============================] - 2s 63us/step - loss: 0.4571 - accuracy: 0.7801 - val_loss: 0.4624 - val_accuracy: 0.7755\n",
      "Epoch 6/20\n",
      "37500/37500 [==============================] - 2s 57us/step - loss: 0.4561 - accuracy: 0.7800 - val_loss: 0.4617 - val_accuracy: 0.7754\n",
      "Epoch 7/20\n",
      "37500/37500 [==============================] - 2s 57us/step - loss: 0.4555 - accuracy: 0.7799 - val_loss: 0.4614 - val_accuracy: 0.7756\n",
      "Epoch 8/20\n",
      "37500/37500 [==============================] - 2s 58us/step - loss: 0.4551 - accuracy: 0.7802 - val_loss: 0.4611 - val_accuracy: 0.7759\n",
      "Epoch 9/20\n",
      "37500/37500 [==============================] - 2s 57us/step - loss: 0.4549 - accuracy: 0.7797 - val_loss: 0.4611 - val_accuracy: 0.7757\n",
      "Epoch 10/20\n",
      "37500/37500 [==============================] - 2s 52us/step - loss: 0.4547 - accuracy: 0.7792 - val_loss: 0.4607 - val_accuracy: 0.7756\n",
      "Epoch 11/20\n",
      "37500/37500 [==============================] - 2s 57us/step - loss: 0.4545 - accuracy: 0.7796 - val_loss: 0.4604 - val_accuracy: 0.7753\n",
      "Epoch 12/20\n",
      "37500/37500 [==============================] - 2s 57us/step - loss: 0.4544 - accuracy: 0.7794 - val_loss: 0.4602 - val_accuracy: 0.7754\n",
      "Epoch 13/20\n",
      "37500/37500 [==============================] - 2s 56us/step - loss: 0.4542 - accuracy: 0.7799 - val_loss: 0.4605 - val_accuracy: 0.7754\n",
      "Epoch 14/20\n",
      "37500/37500 [==============================] - 2s 58us/step - loss: 0.4542 - accuracy: 0.7791 - val_loss: 0.4600 - val_accuracy: 0.7754\n",
      "Epoch 15/20\n",
      "37500/37500 [==============================] - 2s 57us/step - loss: 0.4540 - accuracy: 0.7797 - val_loss: 0.4600 - val_accuracy: 0.7751\n",
      "Epoch 16/20\n",
      "37500/37500 [==============================] - 2s 59us/step - loss: 0.4540 - accuracy: 0.7800 - val_loss: 0.4599 - val_accuracy: 0.7753\n",
      "Epoch 17/20\n",
      "37500/37500 [==============================] - 2s 58us/step - loss: 0.4539 - accuracy: 0.7804 - val_loss: 0.4599 - val_accuracy: 0.7753\n",
      "Epoch 18/20\n",
      "37500/37500 [==============================] - 2s 58us/step - loss: 0.4538 - accuracy: 0.7798 - val_loss: 0.4598 - val_accuracy: 0.7745\n",
      "Epoch 19/20\n",
      "37500/37500 [==============================] - 2s 59us/step - loss: 0.4537 - accuracy: 0.7801 - val_loss: 0.4597 - val_accuracy: 0.7755\n",
      "Epoch 20/20\n",
      "37500/37500 [==============================] - 2s 58us/step - loss: 0.4536 - accuracy: 0.7799 - val_loss: 0.4596 - val_accuracy: 0.7743\n",
      "Model: \"sequential_3\"\n",
      "_________________________________________________________________\n",
      "Layer (type)                 Output Shape              Param #   \n",
      "=================================================================\n",
      "dense_5 (Dense)              (None, 10)                110       \n",
      "_________________________________________________________________\n",
      "dense_6 (Dense)              (None, 1)                 11        \n",
      "=================================================================\n",
      "Total params: 121\n",
      "Trainable params: 121\n",
      "Non-trainable params: 0\n",
      "_________________________________________________________________\n",
      "Train on 37500 samples, validate on 12500 samples\n",
      "Epoch 1/20\n",
      "37500/37500 [==============================] - 2s 63us/step - loss: 0.5807 - accuracy: 0.7225 - val_loss: 0.4985 - val_accuracy: 0.7625\n",
      "Epoch 2/20\n",
      "37500/37500 [==============================] - 2s 56us/step - loss: 0.4705 - accuracy: 0.7750 - val_loss: 0.4676 - val_accuracy: 0.7691\n"
     ]
    },
    {
     "name": "stdout",
     "output_type": "stream",
     "text": [
      "Epoch 3/20\n",
      "37500/37500 [==============================] - 2s 54us/step - loss: 0.4599 - accuracy: 0.7789 - val_loss: 0.4643 - val_accuracy: 0.7754\n",
      "Epoch 4/20\n",
      "37500/37500 [==============================] - 2s 53us/step - loss: 0.4576 - accuracy: 0.7799 - val_loss: 0.4625 - val_accuracy: 0.7741\n",
      "Epoch 5/20\n",
      "37500/37500 [==============================] - 2s 54us/step - loss: 0.4563 - accuracy: 0.7793 - val_loss: 0.4618 - val_accuracy: 0.7752\n",
      "Epoch 6/20\n",
      "37500/37500 [==============================] - 2s 53us/step - loss: 0.4557 - accuracy: 0.7795 - val_loss: 0.4613 - val_accuracy: 0.7758\n",
      "Epoch 7/20\n",
      "37500/37500 [==============================] - 2s 53us/step - loss: 0.4553 - accuracy: 0.7801 - val_loss: 0.4610 - val_accuracy: 0.7753\n",
      "Epoch 8/20\n",
      "37500/37500 [==============================] - 2s 55us/step - loss: 0.4550 - accuracy: 0.7793 - val_loss: 0.4605 - val_accuracy: 0.7759\n",
      "Epoch 9/20\n",
      "37500/37500 [==============================] - 2s 54us/step - loss: 0.4547 - accuracy: 0.7798 - val_loss: 0.4603 - val_accuracy: 0.7756\n",
      "Epoch 10/20\n",
      "37500/37500 [==============================] - 2s 55us/step - loss: 0.4544 - accuracy: 0.7796 - val_loss: 0.4603 - val_accuracy: 0.7750\n",
      "Epoch 11/20\n",
      "37500/37500 [==============================] - 2s 54us/step - loss: 0.4543 - accuracy: 0.7796 - val_loss: 0.4601 - val_accuracy: 0.7749\n",
      "Epoch 12/20\n",
      "37500/37500 [==============================] - 2s 54us/step - loss: 0.4540 - accuracy: 0.7797 - val_loss: 0.4598 - val_accuracy: 0.7749\n",
      "Epoch 13/20\n",
      "37500/37500 [==============================] - 2s 55us/step - loss: 0.4539 - accuracy: 0.7798 - val_loss: 0.4597 - val_accuracy: 0.7754\n",
      "Epoch 14/20\n",
      "37500/37500 [==============================] - 2s 54us/step - loss: 0.4537 - accuracy: 0.7805 - val_loss: 0.4600 - val_accuracy: 0.7759\n",
      "Epoch 15/20\n",
      "37500/37500 [==============================] - 2s 50us/step - loss: 0.4536 - accuracy: 0.7802 - val_loss: 0.4593 - val_accuracy: 0.7749\n",
      "Epoch 16/20\n",
      "37500/37500 [==============================] - 2s 53us/step - loss: 0.4533 - accuracy: 0.7810 - val_loss: 0.4590 - val_accuracy: 0.7750\n",
      "Epoch 17/20\n",
      "37500/37500 [==============================] - 2s 55us/step - loss: 0.4530 - accuracy: 0.7806 - val_loss: 0.4586 - val_accuracy: 0.7758\n",
      "Epoch 18/20\n",
      "37500/37500 [==============================] - 2s 55us/step - loss: 0.4526 - accuracy: 0.7812 - val_loss: 0.4582 - val_accuracy: 0.7755\n",
      "Epoch 19/20\n",
      "37500/37500 [==============================] - 2s 52us/step - loss: 0.4523 - accuracy: 0.7808 - val_loss: 0.4578 - val_accuracy: 0.7752\n",
      "Epoch 20/20\n",
      "37500/37500 [==============================] - 2s 54us/step - loss: 0.4519 - accuracy: 0.7813 - val_loss: 0.4575 - val_accuracy: 0.7758\n",
      "Model: \"sequential_4\"\n",
      "_________________________________________________________________\n",
      "Layer (type)                 Output Shape              Param #   \n",
      "=================================================================\n",
      "dense_7 (Dense)              (None, 10)                110       \n",
      "_________________________________________________________________\n",
      "dense_8 (Dense)              (None, 1)                 11        \n",
      "=================================================================\n",
      "Total params: 121\n",
      "Trainable params: 121\n",
      "Non-trainable params: 0\n",
      "_________________________________________________________________\n",
      "Train on 37500 samples, validate on 12500 samples\n",
      "Epoch 1/20\n",
      "37500/37500 [==============================] - 2s 60us/step - loss: 0.5654 - accuracy: 0.7556 - val_loss: 0.4895 - val_accuracy: 0.7658\n",
      "Epoch 2/20\n",
      "37500/37500 [==============================] - 2s 54us/step - loss: 0.4694 - accuracy: 0.7747 - val_loss: 0.4691 - val_accuracy: 0.7710\n",
      "Epoch 3/20\n",
      "37500/37500 [==============================] - 2s 56us/step - loss: 0.4609 - accuracy: 0.7781 - val_loss: 0.4645 - val_accuracy: 0.7743\n",
      "Epoch 4/20\n",
      "37500/37500 [==============================] - 2s 56us/step - loss: 0.4576 - accuracy: 0.7799 - val_loss: 0.4625 - val_accuracy: 0.7750\n",
      "Epoch 5/20\n",
      "37500/37500 [==============================] - 2s 54us/step - loss: 0.4563 - accuracy: 0.7797 - val_loss: 0.4616 - val_accuracy: 0.7753\n",
      "Epoch 6/20\n",
      "37500/37500 [==============================] - 2s 55us/step - loss: 0.4555 - accuracy: 0.7800 - val_loss: 0.4611 - val_accuracy: 0.7754\n",
      "Epoch 7/20\n",
      "37500/37500 [==============================] - 2s 55us/step - loss: 0.4550 - accuracy: 0.7795 - val_loss: 0.4607 - val_accuracy: 0.7750\n",
      "Epoch 8/20\n",
      "37500/37500 [==============================] - 2s 55us/step - loss: 0.4547 - accuracy: 0.7796 - val_loss: 0.4605 - val_accuracy: 0.7747\n",
      "Epoch 9/20\n",
      "37500/37500 [==============================] - 2s 54us/step - loss: 0.4544 - accuracy: 0.7793 - val_loss: 0.4602 - val_accuracy: 0.7750\n",
      "Epoch 10/20\n",
      "37500/37500 [==============================] - 2s 55us/step - loss: 0.4542 - accuracy: 0.7794 - val_loss: 0.4601 - val_accuracy: 0.7751\n",
      "Epoch 11/20\n",
      "37500/37500 [==============================] - 2s 55us/step - loss: 0.4541 - accuracy: 0.7790 - val_loss: 0.4600 - val_accuracy: 0.7757\n",
      "Epoch 12/20\n",
      "37500/37500 [==============================] - 2s 54us/step - loss: 0.4539 - accuracy: 0.7792 - val_loss: 0.4597 - val_accuracy: 0.7750\n",
      "Epoch 13/20\n",
      "37500/37500 [==============================] - 2s 54us/step - loss: 0.4536 - accuracy: 0.7800 - val_loss: 0.4596 - val_accuracy: 0.7750\n",
      "Epoch 14/20\n",
      "37500/37500 [==============================] - 2s 56us/step - loss: 0.4534 - accuracy: 0.7801 - val_loss: 0.4592 - val_accuracy: 0.7750\n",
      "Epoch 15/20\n",
      "37500/37500 [==============================] - 2s 56us/step - loss: 0.4530 - accuracy: 0.7800 - val_loss: 0.4588 - val_accuracy: 0.7758\n",
      "Epoch 16/20\n",
      "37500/37500 [==============================] - 2s 56us/step - loss: 0.4527 - accuracy: 0.7804 - val_loss: 0.4587 - val_accuracy: 0.7759\n",
      "Epoch 17/20\n",
      "37500/37500 [==============================] - 2s 54us/step - loss: 0.4523 - accuracy: 0.7803 - val_loss: 0.4582 - val_accuracy: 0.7765\n",
      "Epoch 18/20\n",
      "37500/37500 [==============================] - 2s 55us/step - loss: 0.4520 - accuracy: 0.7814 - val_loss: 0.4580 - val_accuracy: 0.7754\n",
      "Epoch 19/20\n",
      "37500/37500 [==============================] - 2s 54us/step - loss: 0.4517 - accuracy: 0.7817 - val_loss: 0.4584 - val_accuracy: 0.7773\n",
      "Epoch 20/20\n",
      "37500/37500 [==============================] - 2s 57us/step - loss: 0.4514 - accuracy: 0.7814 - val_loss: 0.4571 - val_accuracy: 0.7765\n",
      "Model: \"sequential_5\"\n",
      "_________________________________________________________________\n",
      "Layer (type)                 Output Shape              Param #   \n",
      "=================================================================\n",
      "dense_9 (Dense)              (None, 10)                110       \n",
      "_________________________________________________________________\n",
      "dense_10 (Dense)             (None, 1)                 11        \n",
      "=================================================================\n",
      "Total params: 121\n",
      "Trainable params: 121\n",
      "Non-trainable params: 0\n",
      "_________________________________________________________________\n",
      "Train on 37500 samples, validate on 12500 samples\n",
      "Epoch 1/20\n",
      "37500/37500 [==============================] - 2s 61us/step - loss: 0.5470 - accuracy: 0.7301 - val_loss: 0.4763 - val_accuracy: 0.7684\n",
      "Epoch 2/20\n",
      "37500/37500 [==============================] - 2s 56us/step - loss: 0.4604 - accuracy: 0.7787 - val_loss: 0.4632 - val_accuracy: 0.7745\n",
      "Epoch 3/20\n",
      "37500/37500 [==============================] - 2s 54us/step - loss: 0.4569 - accuracy: 0.7802 - val_loss: 0.4620 - val_accuracy: 0.7750\n",
      "Epoch 4/20\n",
      "37500/37500 [==============================] - 2s 55us/step - loss: 0.4562 - accuracy: 0.7797 - val_loss: 0.4616 - val_accuracy: 0.7746\n",
      "Epoch 5/20\n",
      "37500/37500 [==============================] - 2s 55us/step - loss: 0.4557 - accuracy: 0.7797 - val_loss: 0.4613 - val_accuracy: 0.7755\n",
      "Epoch 6/20\n",
      "37500/37500 [==============================] - 2s 56us/step - loss: 0.4552 - accuracy: 0.7798 - val_loss: 0.4611 - val_accuracy: 0.7750\n",
      "Epoch 7/20\n",
      "37500/37500 [==============================] - 2s 55us/step - loss: 0.4549 - accuracy: 0.7796 - val_loss: 0.4606 - val_accuracy: 0.7757\n",
      "Epoch 8/20\n",
      "37500/37500 [==============================] - 2s 57us/step - loss: 0.4547 - accuracy: 0.7794 - val_loss: 0.4604 - val_accuracy: 0.7755\n",
      "Epoch 9/20\n"
     ]
    },
    {
     "name": "stdout",
     "output_type": "stream",
     "text": [
      "37500/37500 [==============================] - 2s 54us/step - loss: 0.4545 - accuracy: 0.7797 - val_loss: 0.4605 - val_accuracy: 0.7751\n",
      "Epoch 10/20\n",
      "37500/37500 [==============================] - 2s 54us/step - loss: 0.4543 - accuracy: 0.7805 - val_loss: 0.4601 - val_accuracy: 0.7762\n",
      "Epoch 11/20\n",
      "37500/37500 [==============================] - 2s 54us/step - loss: 0.4541 - accuracy: 0.7799 - val_loss: 0.4599 - val_accuracy: 0.7762\n",
      "Epoch 12/20\n",
      "37500/37500 [==============================] - 2s 53us/step - loss: 0.4539 - accuracy: 0.7803 - val_loss: 0.4604 - val_accuracy: 0.7747\n",
      "Epoch 13/20\n",
      "37500/37500 [==============================] - 2s 56us/step - loss: 0.4539 - accuracy: 0.7804 - val_loss: 0.4597 - val_accuracy: 0.7759\n",
      "Epoch 14/20\n",
      "37500/37500 [==============================] - 2s 55us/step - loss: 0.4537 - accuracy: 0.7807 - val_loss: 0.4596 - val_accuracy: 0.7764\n",
      "Epoch 15/20\n",
      "37500/37500 [==============================] - 2s 56us/step - loss: 0.4536 - accuracy: 0.7806 - val_loss: 0.4595 - val_accuracy: 0.7764\n",
      "Epoch 16/20\n",
      "37500/37500 [==============================] - 2s 53us/step - loss: 0.4536 - accuracy: 0.7804 - val_loss: 0.4594 - val_accuracy: 0.7762\n",
      "Epoch 17/20\n",
      "37500/37500 [==============================] - 2s 55us/step - loss: 0.4534 - accuracy: 0.7803 - val_loss: 0.4598 - val_accuracy: 0.7763\n",
      "Epoch 18/20\n",
      "37500/37500 [==============================] - 2s 54us/step - loss: 0.4533 - accuracy: 0.7806 - val_loss: 0.4593 - val_accuracy: 0.7754\n",
      "Epoch 19/20\n",
      "37500/37500 [==============================] - 2s 56us/step - loss: 0.4532 - accuracy: 0.7805 - val_loss: 0.4591 - val_accuracy: 0.7758\n",
      "Epoch 20/20\n",
      "37500/37500 [==============================] - 2s 54us/step - loss: 0.4531 - accuracy: 0.7801 - val_loss: 0.4587 - val_accuracy: 0.7754\n",
      "Model: \"sequential_6\"\n",
      "_________________________________________________________________\n",
      "Layer (type)                 Output Shape              Param #   \n",
      "=================================================================\n",
      "dense_11 (Dense)             (None, 10)                110       \n",
      "_________________________________________________________________\n",
      "dense_12 (Dense)             (None, 1)                 11        \n",
      "=================================================================\n",
      "Total params: 121\n",
      "Trainable params: 121\n",
      "Non-trainable params: 0\n",
      "_________________________________________________________________\n",
      "Train on 37500 samples, validate on 12500 samples\n",
      "Epoch 1/20\n",
      "37500/37500 [==============================] - 2s 60us/step - loss: 0.5852 - accuracy: 0.6921 - val_loss: 0.5061 - val_accuracy: 0.7522\n",
      "Epoch 2/20\n",
      "37500/37500 [==============================] - 2s 56us/step - loss: 0.4725 - accuracy: 0.7734 - val_loss: 0.4655 - val_accuracy: 0.7733\n",
      "Epoch 3/20\n",
      "37500/37500 [==============================] - 2s 55us/step - loss: 0.4586 - accuracy: 0.7791 - val_loss: 0.4632 - val_accuracy: 0.7750\n",
      "Epoch 4/20\n",
      "37500/37500 [==============================] - 2s 56us/step - loss: 0.4570 - accuracy: 0.7799 - val_loss: 0.4622 - val_accuracy: 0.7752\n",
      "Epoch 5/20\n",
      "37500/37500 [==============================] - 2s 56us/step - loss: 0.4563 - accuracy: 0.7793 - val_loss: 0.4617 - val_accuracy: 0.7748\n",
      "Epoch 6/20\n",
      "37500/37500 [==============================] - 2s 57us/step - loss: 0.4558 - accuracy: 0.7798 - val_loss: 0.4615 - val_accuracy: 0.7750\n",
      "Epoch 7/20\n",
      "37500/37500 [==============================] - 2s 58us/step - loss: 0.4554 - accuracy: 0.7796 - val_loss: 0.4610 - val_accuracy: 0.7756\n",
      "Epoch 8/20\n",
      "37500/37500 [==============================] - 2s 57us/step - loss: 0.4551 - accuracy: 0.7795 - val_loss: 0.4606 - val_accuracy: 0.7753\n",
      "Epoch 9/20\n",
      "37500/37500 [==============================] - 2s 56us/step - loss: 0.4549 - accuracy: 0.7798 - val_loss: 0.4605 - val_accuracy: 0.7754\n",
      "Epoch 10/20\n",
      "37500/37500 [==============================] - 2s 54us/step - loss: 0.4547 - accuracy: 0.7794 - val_loss: 0.4603 - val_accuracy: 0.7754\n",
      "Epoch 11/20\n",
      "37500/37500 [==============================] - 2s 57us/step - loss: 0.4544 - accuracy: 0.7794 - val_loss: 0.4603 - val_accuracy: 0.7760\n",
      "Epoch 12/20\n",
      "37500/37500 [==============================] - 2s 55us/step - loss: 0.4543 - accuracy: 0.7793 - val_loss: 0.4601 - val_accuracy: 0.7755\n",
      "Epoch 13/20\n",
      "37500/37500 [==============================] - 2s 55us/step - loss: 0.4542 - accuracy: 0.7797 - val_loss: 0.4599 - val_accuracy: 0.7754\n",
      "Epoch 14/20\n",
      "37500/37500 [==============================] - 2s 57us/step - loss: 0.4540 - accuracy: 0.7807 - val_loss: 0.4599 - val_accuracy: 0.7753\n",
      "Epoch 15/20\n",
      "37500/37500 [==============================] - 2s 56us/step - loss: 0.4540 - accuracy: 0.7803 - val_loss: 0.4598 - val_accuracy: 0.7754\n",
      "Epoch 16/20\n",
      "37500/37500 [==============================] - 2s 56us/step - loss: 0.4538 - accuracy: 0.7807 - val_loss: 0.4597 - val_accuracy: 0.7755\n",
      "Epoch 17/20\n",
      "37500/37500 [==============================] - 2s 57us/step - loss: 0.4537 - accuracy: 0.7806 - val_loss: 0.4596 - val_accuracy: 0.7756\n",
      "Epoch 18/20\n",
      "37500/37500 [==============================] - 2s 56us/step - loss: 0.4537 - accuracy: 0.7810 - val_loss: 0.4594 - val_accuracy: 0.7761\n",
      "Epoch 19/20\n",
      "37500/37500 [==============================] - 2s 55us/step - loss: 0.4536 - accuracy: 0.7809 - val_loss: 0.4593 - val_accuracy: 0.7758\n",
      "Epoch 20/20\n",
      "37500/37500 [==============================] - 2s 55us/step - loss: 0.4534 - accuracy: 0.7810 - val_loss: 0.4595 - val_accuracy: 0.7746\n",
      "Model: \"sequential_7\"\n",
      "_________________________________________________________________\n",
      "Layer (type)                 Output Shape              Param #   \n",
      "=================================================================\n",
      "dense_13 (Dense)             (None, 10)                110       \n",
      "_________________________________________________________________\n",
      "dense_14 (Dense)             (None, 1)                 11        \n",
      "=================================================================\n",
      "Total params: 121\n",
      "Trainable params: 121\n",
      "Non-trainable params: 0\n",
      "_________________________________________________________________\n",
      "Train on 37500 samples, validate on 12500 samples\n",
      "Epoch 1/20\n",
      "37500/37500 [==============================] - 2s 62us/step - loss: 0.5739 - accuracy: 0.6820 - val_loss: 0.5062 - val_accuracy: 0.7485\n",
      "Epoch 2/20\n",
      "37500/37500 [==============================] - 2s 56us/step - loss: 0.4738 - accuracy: 0.7740 - val_loss: 0.4649 - val_accuracy: 0.7741\n",
      "Epoch 3/20\n",
      "37500/37500 [==============================] - 2s 56us/step - loss: 0.4582 - accuracy: 0.7802 - val_loss: 0.4624 - val_accuracy: 0.7756\n",
      "Epoch 4/20\n",
      "37500/37500 [==============================] - 2s 55us/step - loss: 0.4569 - accuracy: 0.7797 - val_loss: 0.4620 - val_accuracy: 0.7758\n",
      "Epoch 5/20\n",
      "37500/37500 [==============================] - 2s 56us/step - loss: 0.4564 - accuracy: 0.7793 - val_loss: 0.4616 - val_accuracy: 0.7752\n",
      "Epoch 6/20\n",
      "37500/37500 [==============================] - 2s 54us/step - loss: 0.4559 - accuracy: 0.7793 - val_loss: 0.4615 - val_accuracy: 0.7750\n",
      "Epoch 7/20\n",
      "37500/37500 [==============================] - 2s 56us/step - loss: 0.4556 - accuracy: 0.7795 - val_loss: 0.4609 - val_accuracy: 0.7763\n",
      "Epoch 8/20\n",
      "37500/37500 [==============================] - 2s 52us/step - loss: 0.4553 - accuracy: 0.7795 - val_loss: 0.4607 - val_accuracy: 0.7756\n",
      "Epoch 9/20\n",
      "37500/37500 [==============================] - 2s 56us/step - loss: 0.4551 - accuracy: 0.7795 - val_loss: 0.4605 - val_accuracy: 0.7755\n",
      "Epoch 10/20\n",
      "37500/37500 [==============================] - 2s 57us/step - loss: 0.4549 - accuracy: 0.7798 - val_loss: 0.4609 - val_accuracy: 0.7753\n",
      "Epoch 11/20\n",
      "37500/37500 [==============================] - 2s 56us/step - loss: 0.4547 - accuracy: 0.7790 - val_loss: 0.4602 - val_accuracy: 0.7750\n",
      "Epoch 12/20\n",
      "37500/37500 [==============================] - 2s 56us/step - loss: 0.4545 - accuracy: 0.7799 - val_loss: 0.4603 - val_accuracy: 0.7747\n",
      "Epoch 13/20\n",
      "37500/37500 [==============================] - 2s 56us/step - loss: 0.4545 - accuracy: 0.7798 - val_loss: 0.4602 - val_accuracy: 0.7750\n",
      "Epoch 14/20\n",
      "37500/37500 [==============================] - 2s 56us/step - loss: 0.4544 - accuracy: 0.7793 - val_loss: 0.4599 - val_accuracy: 0.7754\n",
      "Epoch 15/20\n"
     ]
    },
    {
     "name": "stdout",
     "output_type": "stream",
     "text": [
      "37500/37500 [==============================] - 2s 54us/step - loss: 0.4543 - accuracy: 0.7798 - val_loss: 0.4601 - val_accuracy: 0.7749\n",
      "Epoch 16/20\n",
      "37500/37500 [==============================] - 2s 54us/step - loss: 0.4541 - accuracy: 0.7807 - val_loss: 0.4601 - val_accuracy: 0.7754\n",
      "Epoch 17/20\n",
      "37500/37500 [==============================] - 2s 57us/step - loss: 0.4541 - accuracy: 0.7814 - val_loss: 0.4598 - val_accuracy: 0.7760\n",
      "Epoch 18/20\n",
      "37500/37500 [==============================] - 2s 55us/step - loss: 0.4540 - accuracy: 0.7810 - val_loss: 0.4597 - val_accuracy: 0.7754\n",
      "Epoch 19/20\n",
      "37500/37500 [==============================] - 2s 55us/step - loss: 0.4539 - accuracy: 0.7811 - val_loss: 0.4597 - val_accuracy: 0.7752\n",
      "Epoch 20/20\n",
      "37500/37500 [==============================] - 2s 56us/step - loss: 0.4538 - accuracy: 0.7809 - val_loss: 0.4596 - val_accuracy: 0.7756\n",
      "Model: \"sequential_8\"\n",
      "_________________________________________________________________\n",
      "Layer (type)                 Output Shape              Param #   \n",
      "=================================================================\n",
      "dense_15 (Dense)             (None, 10)                110       \n",
      "_________________________________________________________________\n",
      "dense_16 (Dense)             (None, 1)                 11        \n",
      "=================================================================\n",
      "Total params: 121\n",
      "Trainable params: 121\n",
      "Non-trainable params: 0\n",
      "_________________________________________________________________\n",
      "Train on 37500 samples, validate on 12500 samples\n",
      "Epoch 1/20\n",
      "37500/37500 [==============================] - 2s 59us/step - loss: 0.5756 - accuracy: 0.7483 - val_loss: 0.4916 - val_accuracy: 0.7682\n",
      "Epoch 2/20\n",
      "37500/37500 [==============================] - 2s 52us/step - loss: 0.4704 - accuracy: 0.7759 - val_loss: 0.4702 - val_accuracy: 0.7720\n",
      "Epoch 3/20\n",
      "37500/37500 [==============================] - 2s 53us/step - loss: 0.4613 - accuracy: 0.7789 - val_loss: 0.4654 - val_accuracy: 0.7742\n",
      "Epoch 4/20\n",
      "37500/37500 [==============================] - 2s 57us/step - loss: 0.4578 - accuracy: 0.7799 - val_loss: 0.4627 - val_accuracy: 0.7750\n",
      "Epoch 5/20\n",
      "37500/37500 [==============================] - 2s 57us/step - loss: 0.4560 - accuracy: 0.7798 - val_loss: 0.4614 - val_accuracy: 0.7758\n",
      "Epoch 6/20\n",
      "37500/37500 [==============================] - 2s 55us/step - loss: 0.4552 - accuracy: 0.7800 - val_loss: 0.4609 - val_accuracy: 0.7750\n",
      "Epoch 7/20\n",
      "37500/37500 [==============================] - 2s 53us/step - loss: 0.4548 - accuracy: 0.7797 - val_loss: 0.4605 - val_accuracy: 0.7758\n",
      "Epoch 8/20\n",
      "37500/37500 [==============================] - 2s 53us/step - loss: 0.4544 - accuracy: 0.7798 - val_loss: 0.4600 - val_accuracy: 0.7755\n",
      "Epoch 9/20\n",
      "37500/37500 [==============================] - 2s 55us/step - loss: 0.4540 - accuracy: 0.7795 - val_loss: 0.4596 - val_accuracy: 0.7754\n",
      "Epoch 10/20\n",
      "37500/37500 [==============================] - 2s 56us/step - loss: 0.4535 - accuracy: 0.7800 - val_loss: 0.4591 - val_accuracy: 0.7757\n",
      "Epoch 11/20\n",
      "37500/37500 [==============================] - 2s 54us/step - loss: 0.4531 - accuracy: 0.7801 - val_loss: 0.4588 - val_accuracy: 0.7757\n",
      "Epoch 12/20\n",
      "37500/37500 [==============================] - 2s 53us/step - loss: 0.4527 - accuracy: 0.7807 - val_loss: 0.4585 - val_accuracy: 0.7765\n",
      "Epoch 13/20\n",
      "37500/37500 [==============================] - 2s 54us/step - loss: 0.4524 - accuracy: 0.7812 - val_loss: 0.4579 - val_accuracy: 0.7762\n",
      "Epoch 14/20\n",
      "37500/37500 [==============================] - 2s 55us/step - loss: 0.4519 - accuracy: 0.7812 - val_loss: 0.4576 - val_accuracy: 0.7773\n",
      "Epoch 15/20\n",
      "37500/37500 [==============================] - 2s 57us/step - loss: 0.4514 - accuracy: 0.7816 - val_loss: 0.4571 - val_accuracy: 0.7767\n",
      "Epoch 16/20\n",
      "37500/37500 [==============================] - 2s 54us/step - loss: 0.4511 - accuracy: 0.7812 - val_loss: 0.4566 - val_accuracy: 0.7774\n",
      "Epoch 17/20\n",
      "37500/37500 [==============================] - 2s 55us/step - loss: 0.4506 - accuracy: 0.7812 - val_loss: 0.4561 - val_accuracy: 0.7773\n",
      "Epoch 18/20\n",
      "37500/37500 [==============================] - 2s 53us/step - loss: 0.4503 - accuracy: 0.7822 - val_loss: 0.4557 - val_accuracy: 0.7776\n",
      "Epoch 19/20\n",
      "37500/37500 [==============================] - 2s 54us/step - loss: 0.4499 - accuracy: 0.7822 - val_loss: 0.4551 - val_accuracy: 0.7777\n",
      "Epoch 20/20\n",
      "37500/37500 [==============================] - 2s 52us/step - loss: 0.4494 - accuracy: 0.7824 - val_loss: 0.4549 - val_accuracy: 0.7773\n",
      "Model: \"sequential_9\"\n",
      "_________________________________________________________________\n",
      "Layer (type)                 Output Shape              Param #   \n",
      "=================================================================\n",
      "dense_17 (Dense)             (None, 10)                110       \n",
      "_________________________________________________________________\n",
      "dense_18 (Dense)             (None, 1)                 11        \n",
      "=================================================================\n",
      "Total params: 121\n",
      "Trainable params: 121\n",
      "Non-trainable params: 0\n",
      "_________________________________________________________________\n",
      "Train on 37500 samples, validate on 12500 samples\n",
      "Epoch 1/20\n",
      "37500/37500 [==============================] - 2s 62us/step - loss: 0.5581 - accuracy: 0.7286 - val_loss: 0.4833 - val_accuracy: 0.7653\n",
      "Epoch 2/20\n",
      "37500/37500 [==============================] - 2s 56us/step - loss: 0.4632 - accuracy: 0.7774 - val_loss: 0.4634 - val_accuracy: 0.7750\n",
      "Epoch 3/20\n",
      "37500/37500 [==============================] - 2s 57us/step - loss: 0.4573 - accuracy: 0.7799 - val_loss: 0.4624 - val_accuracy: 0.7749\n",
      "Epoch 4/20\n",
      "37500/37500 [==============================] - 2s 55us/step - loss: 0.4564 - accuracy: 0.7799 - val_loss: 0.4619 - val_accuracy: 0.7758\n",
      "Epoch 5/20\n",
      "37500/37500 [==============================] - 2s 53us/step - loss: 0.4560 - accuracy: 0.7800 - val_loss: 0.4617 - val_accuracy: 0.7749\n",
      "Epoch 6/20\n",
      "37500/37500 [==============================] - 2s 54us/step - loss: 0.4556 - accuracy: 0.7797 - val_loss: 0.4613 - val_accuracy: 0.7752\n",
      "Epoch 7/20\n",
      "37500/37500 [==============================] - 2s 56us/step - loss: 0.4554 - accuracy: 0.7803 - val_loss: 0.4610 - val_accuracy: 0.7755\n",
      "Epoch 8/20\n",
      "37500/37500 [==============================] - 2s 56us/step - loss: 0.4551 - accuracy: 0.7799 - val_loss: 0.4610 - val_accuracy: 0.7756\n",
      "Epoch 9/20\n",
      "37500/37500 [==============================] - 2s 55us/step - loss: 0.4549 - accuracy: 0.7795 - val_loss: 0.4603 - val_accuracy: 0.7759\n",
      "Epoch 10/20\n",
      "37500/37500 [==============================] - 2s 57us/step - loss: 0.4546 - accuracy: 0.7805 - val_loss: 0.4603 - val_accuracy: 0.7754\n",
      "Epoch 11/20\n",
      "37500/37500 [==============================] - 2s 56us/step - loss: 0.4543 - accuracy: 0.7797 - val_loss: 0.4599 - val_accuracy: 0.7758\n",
      "Epoch 12/20\n",
      "37500/37500 [==============================] - 2s 56us/step - loss: 0.4541 - accuracy: 0.7808 - val_loss: 0.4595 - val_accuracy: 0.7762\n",
      "Epoch 13/20\n",
      "37500/37500 [==============================] - 2s 55us/step - loss: 0.4536 - accuracy: 0.7803 - val_loss: 0.4592 - val_accuracy: 0.7760\n",
      "Epoch 14/20\n",
      "37500/37500 [==============================] - 2s 56us/step - loss: 0.4533 - accuracy: 0.7808 - val_loss: 0.4589 - val_accuracy: 0.7760\n",
      "Epoch 15/20\n",
      "37500/37500 [==============================] - 2s 56us/step - loss: 0.4529 - accuracy: 0.7806 - val_loss: 0.4585 - val_accuracy: 0.7760\n",
      "Epoch 16/20\n",
      "37500/37500 [==============================] - 2s 56us/step - loss: 0.4525 - accuracy: 0.7816 - val_loss: 0.4585 - val_accuracy: 0.7760\n",
      "Epoch 17/20\n",
      "37500/37500 [==============================] - 2s 54us/step - loss: 0.4522 - accuracy: 0.7815 - val_loss: 0.4576 - val_accuracy: 0.7758\n",
      "Epoch 18/20\n",
      "37500/37500 [==============================] - 2s 54us/step - loss: 0.4519 - accuracy: 0.7818 - val_loss: 0.4573 - val_accuracy: 0.7759\n",
      "Epoch 19/20\n",
      "37500/37500 [==============================] - 2s 55us/step - loss: 0.4516 - accuracy: 0.7815 - val_loss: 0.4571 - val_accuracy: 0.7758\n",
      "Epoch 20/20\n",
      "37500/37500 [==============================] - 2s 57us/step - loss: 0.4513 - accuracy: 0.7818 - val_loss: 0.4566 - val_accuracy: 0.7758\n",
      "Model: \"sequential_10\"\n",
      "_________________________________________________________________\n",
      "Layer (type)                 Output Shape              Param #   \n",
      "=================================================================\n",
      "dense_19 (Dense)             (None, 10)                110       \n",
      "_________________________________________________________________\n",
      "dense_20 (Dense)             (None, 1)                 11        \n",
      "=================================================================\n",
      "Total params: 121\n",
      "Trainable params: 121\n",
      "Non-trainable params: 0\n",
      "_________________________________________________________________\n"
     ]
    },
    {
     "name": "stdout",
     "output_type": "stream",
     "text": [
      "Train on 37500 samples, validate on 12500 samples\n",
      "Epoch 1/20\n",
      "37500/37500 [==============================] - 2s 59us/step - loss: 0.5522 - accuracy: 0.7594 - val_loss: 0.4817 - val_accuracy: 0.7682\n",
      "Epoch 2/20\n",
      "37500/37500 [==============================] - 2s 55us/step - loss: 0.4670 - accuracy: 0.7772 - val_loss: 0.4683 - val_accuracy: 0.7694\n",
      "Epoch 3/20\n",
      "37500/37500 [==============================] - 2s 53us/step - loss: 0.4602 - accuracy: 0.7788 - val_loss: 0.4641 - val_accuracy: 0.7743\n",
      "Epoch 4/20\n",
      "37500/37500 [==============================] - 2s 60us/step - loss: 0.4574 - accuracy: 0.7800 - val_loss: 0.4623 - val_accuracy: 0.7742\n",
      "Epoch 5/20\n",
      "37500/37500 [==============================] - 2s 55us/step - loss: 0.4560 - accuracy: 0.7802 - val_loss: 0.4617 - val_accuracy: 0.7750\n",
      "Epoch 6/20\n",
      "37500/37500 [==============================] - 2s 63us/step - loss: 0.4554 - accuracy: 0.7799 - val_loss: 0.4611 - val_accuracy: 0.7749\n",
      "Epoch 7/20\n",
      "37500/37500 [==============================] - 2s 57us/step - loss: 0.4550 - accuracy: 0.7802 - val_loss: 0.4606 - val_accuracy: 0.7753\n",
      "Epoch 8/20\n",
      "37500/37500 [==============================] - 2s 56us/step - loss: 0.4547 - accuracy: 0.7798 - val_loss: 0.4607 - val_accuracy: 0.7757\n",
      "Epoch 9/20\n",
      "37500/37500 [==============================] - 2s 58us/step - loss: 0.4544 - accuracy: 0.7797 - val_loss: 0.4602 - val_accuracy: 0.7751\n",
      "Epoch 10/20\n",
      "37500/37500 [==============================] - 2s 58us/step - loss: 0.4541 - accuracy: 0.7798 - val_loss: 0.4601 - val_accuracy: 0.7753\n",
      "Epoch 11/20\n",
      "37500/37500 [==============================] - 2s 56us/step - loss: 0.4539 - accuracy: 0.7797 - val_loss: 0.4603 - val_accuracy: 0.7751\n",
      "Epoch 12/20\n",
      "37500/37500 [==============================] - 2s 60us/step - loss: 0.4538 - accuracy: 0.7801 - val_loss: 0.4596 - val_accuracy: 0.7752\n",
      "Epoch 13/20\n",
      "37500/37500 [==============================] - 2s 62us/step - loss: 0.4534 - accuracy: 0.7805 - val_loss: 0.4593 - val_accuracy: 0.7750\n",
      "Epoch 14/20\n",
      "37500/37500 [==============================] - 2s 64us/step - loss: 0.4530 - accuracy: 0.7798 - val_loss: 0.4591 - val_accuracy: 0.7738\n",
      "Epoch 15/20\n",
      "37500/37500 [==============================] - 2s 58us/step - loss: 0.4527 - accuracy: 0.7798 - val_loss: 0.4583 - val_accuracy: 0.7756\n",
      "Epoch 16/20\n",
      "37500/37500 [==============================] - 2s 60us/step - loss: 0.4523 - accuracy: 0.7805 - val_loss: 0.4582 - val_accuracy: 0.7755\n",
      "Epoch 17/20\n",
      "37500/37500 [==============================] - 2s 56us/step - loss: 0.4520 - accuracy: 0.7810 - val_loss: 0.4580 - val_accuracy: 0.7753\n",
      "Epoch 18/20\n",
      "37500/37500 [==============================] - 2s 57us/step - loss: 0.4517 - accuracy: 0.7809 - val_loss: 0.4574 - val_accuracy: 0.7750\n",
      "Epoch 19/20\n",
      "37500/37500 [==============================] - 2s 56us/step - loss: 0.4514 - accuracy: 0.7809 - val_loss: 0.4569 - val_accuracy: 0.7758\n",
      "Epoch 20/20\n",
      "37500/37500 [==============================] - 2s 56us/step - loss: 0.4509 - accuracy: 0.7813 - val_loss: 0.4568 - val_accuracy: 0.7756\n"
     ]
    }
   ],
   "source": [
    "from sklearn.model_selection import train_test_split\n",
    "from sklearn.metrics import roc_curve, auc\n",
    "from keras import layers\n",
    "from keras import models\n",
    "from keras import optimizers\n",
    "from keras import losses\n",
    "from keras import metrics\n",
    "\n",
    "training_accuracy = []; training_loss = []\n",
    "test_accuracy     = []; test_loss     = []\n",
    "test_fpr          = []; test_tpr      = []; test_auc_roc = []\n",
    "test_precision    = []; test_recall   = []; test_auc_pr  = []\n",
    "test_confusion_matrix = []\n",
    "\n",
    "#para scikit-learn: (samples,features)\n",
    "test_input_T = test_input.T\n",
    "X_train, X_test, y_train, y_test = train_test_split(test_input_T,test_labels,test_size=0.25,random_state=None)\n",
    "print(len(y_test))\n",
    "\n",
    "iterations = 10\n",
    "for i in range(iterations):\n",
    "    #ANN\n",
    "    test1_model = models.Sequential()\n",
    "    test1_model.add(layers.Dense(10,activation='relu',input_shape=(10,)))\n",
    "#test1_model.add(layers.Dense(32,activation='relu'))\n",
    "#test1_model.add(layers.Dense(32,activation='relu'))\n",
    "#test1_model.add(layers.Dense(10,activation='relu'))\n",
    "    test1_model.add(layers.Dense(1, activation='sigmoid'))\n",
    "\n",
    "    test1_model.compile(optimizer=optimizers.RMSprop(lr=0.001),\n",
    "                    loss=losses.binary_crossentropy,\n",
    "                    metrics=['accuracy'])\n",
    "\n",
    "    test1_model.summary()\n",
    "\n",
    "    test1_model_history = test1_model.fit(X_train,\n",
    "                                          y_train,\n",
    "                                          epochs=20,\n",
    "                                          batch_size=64,\n",
    "                                          validation_data=(X_test,y_test),\n",
    "                                          verbose=1)\n",
    "\n",
    "#plot\n",
    "    #fig, axs = plt.subplots(nrows=1, ncols=2, figsize=(11,4.5))    \n",
    "\n",
    "    results_dict = test1_model_history.history\n",
    "    epochs = range(1,len(results_dict['accuracy'])+1)\n",
    "\n",
    "#accuracy\n",
    "    acc_values = results_dict['accuracy']\n",
    "    val_acc_values = results_dict['val_accuracy']\n",
    "    training_accuracy.append(results_dict['accuracy'])\n",
    "    test_accuracy.append(results_dict['val_accuracy'])\n",
    "    \n",
    "    #axs[0].plot(epochs,training_accuracy[i],color='black',label='train',linewidth=1.5,linestyle='-')\n",
    "    #axs[0].plot(epochs,test_accuracy[i],color='red',label='test',linewidth=1.5,linestyle='-')\n",
    "    #axs[0].set_xlabel('epochs')\n",
    "    #minorLocatorX = AutoMinorLocator()\n",
    "    #axs[0].xaxis.set_minor_locator(minorLocatorX)\n",
    "    #axs[0].set_ylabel('accuracy')\n",
    "    #axs[0].set_ylim([0.5,1.02])   \n",
    "    #minorLocatorY = AutoMinorLocator()\n",
    "    #axs[0].yaxis.set_minor_locator(minorLocatorY)\n",
    "    #axs[0].tick_params(which='major', length=6)\n",
    "    #axs[0].tick_params(which='minor', length=3, color='black')       \n",
    "    #axs[0].legend(loc='lower right')\n",
    "    \n",
    "#loss\n",
    "    loss_values = results_dict['loss']\n",
    "    val_loss_values = results_dict['val_loss']\n",
    "    training_loss.append(results_dict['loss'])\n",
    "    test_loss.append(results_dict['val_loss'])\n",
    "       \n",
    "    #axs[1].plot(epochs,training_loss[i],color='black',label='train',linewidth=1.5,linestyle='-')\n",
    "    #axs[1].plot(epochs,test_loss[i],color='red',label='test',linewidth=1.5,linestyle='-')\n",
    "    #axs[1].set_xlabel('epochs')\n",
    "    #minorLocatorX = AutoMinorLocator()\n",
    "    #axs[1].xaxis.set_minor_locator(minorLocatorX)   \n",
    "    #axs[1].set_ylabel('loss')\n",
    "    #minorLocatorY = AutoMinorLocator()\n",
    "    #axs[1].yaxis.set_minor_locator(minorLocatorY)\n",
    "    #axs[1].tick_params(which='major', length=6)\n",
    "    #axs[1].tick_params(which='minor', length=3, color='black')    \n",
    "    #axs[1].legend(loc='upper right')\n",
    "\n",
    "    #axs[0].set_title('Training and test accuracy after {} epochs: \\n {:.3f} (train), {:.3f} (validation)'\n",
    "                     #.format(len(epochs),acc_values[-1],val_acc_values[-1]));\n",
    "\n",
    "    #axs[1].set_title('Training and test loss after {} epochs: \\n {:.3f} (train), {:.3f} (validation)'\n",
    "                     #.format(len(epochs),loss_values[-1],val_loss_values[-1]));\n",
    "    \n",
    "    pred_class = test1_model.predict_classes(X_test)\n",
    "    probs = test1_model.predict_proba(X_test)\n",
    "    preds = probs[:,0]\n",
    "    fpr, tpr, threshold = roc_curve(y_test, preds)\n",
    "    roc_auc = auc(fpr, tpr)\n",
    "    cm = confusion_matrix(y_test,pred_class)\n",
    "    test_confusion_matrix.append(cm)\n"
   ]
  },
  {
   "cell_type": "markdown",
   "metadata": {},
   "source": [
    "Ploteamos la curva ROC\n"
   ]
  },
  {
   "cell_type": "code",
   "execution_count": 26,
   "metadata": {},
   "outputs": [
    {
     "data": {
      "image/png": "[encoded data removed]",
      "text/plain": [
       "<Figure size 432x288 with 1 Axes>"
      ]
     },
     "metadata": {
      "needs_background": "light"
     },
     "output_type": "display_data"
    }
   ],
   "source": [
    "plt.title('Receiver Operating Characteristic')\n",
    "plt.plot(fpr, tpr, 'b', label = 'AUC = %0.2f' % roc_auc)\n",
    "#plt.scatter(fpr,tpr)\n",
    "plt.legend(loc = 'lower right')\n",
    "plt.plot([0, 1], [0, 1],'r--')\n",
    "plt.xlim([0, 1])\n",
    "plt.ylim([0, 1])\n",
    "plt.ylabel('True Positive Rate')\n",
    "plt.xlabel('False Positive Rate')\n",
    "plt.show()"
   ]
  },
  {
   "cell_type": "markdown",
   "metadata": {},
   "source": [
    "LA desviacion standar y promedio de la matriz de confusion"
   ]
  },
  {
   "cell_type": "code",
   "execution_count": 27,
   "metadata": {},
   "outputs": [
    {
     "name": "stdout",
     "output_type": "stream",
     "text": [
      "confusion matrix mean:\n",
      "[[6710 1375]\n",
      " [1428 2985]]\n",
      "confusion matrix std:\n",
      "[[53.37 53.36]\n",
      " [46.53 46.53]]\n"
     ]
    }
   ],
   "source": [
    "test_confusion_matrix_mean = sum(test_confusion_matrix)/len(test_confusion_matrix)\n",
    "variance=sum([((x - test_confusion_matrix_mean) ** 2) for x in test_confusion_matrix])/len(test_confusion_matrix) \n",
    "test_confusion_matrix_std = variance ** 0.5\n",
    "print('confusion matrix mean:')\n",
    "print(test_confusion_matrix_mean)\n",
    "print('confusion matrix std:')\n",
    "print(test_confusion_matrix_std)"
   ]
  },
  {
   "cell_type": "markdown",
   "metadata": {},
   "source": [
    "y ploteamos la matriz de confusion"
   ]
  },
  {
   "cell_type": "code",
   "execution_count": 29,
   "metadata": {},
   "outputs": [
    {
     "name": "stdout",
     "output_type": "stream",
     "text": [
      "Confusion matrix, without normalization\n",
      "[[6626 1460]\n",
      " [1345 3069]]\n"
     ]
    },
    {
     "data": {
      "text/plain": [
       "<matplotlib.axes._subplots.AxesSubplot at 0x7f2c330088d0>"
      ]
     },
     "execution_count": 29,
     "metadata": {},
     "output_type": "execute_result"
    },
    {
     "data": {
      "text/plain": [
       "<Figure size 432x288 with 0 Axes>"
      ]
     },
     "metadata": {},
     "output_type": "display_data"
    },
    {
     "data": {
      "image/png": "[encoded data removed]",
      "text/plain": [
       "<Figure size 432x288 with 2 Axes>"
      ]
     },
     "metadata": {
      "needs_background": "light"
     },
     "output_type": "display_data"
    }
   ],
   "source": [
    "class_names=['Not in Halo','in Halo']\n",
    "# Plot non-normalized confusion matrix\n",
    "plt.figure()\n",
    "plot_confusion_matrix(y_test, pred_class, classes=class_names,\n",
    "                      title='Confusion matrix, without normalization')"
   ]
  },
  {
   "cell_type": "code",
   "execution_count": 31,
   "metadata": {},
   "outputs": [
    {
     "name": "stdout",
     "output_type": "stream",
     "text": [
      "Normalized confusion matrix\n",
      "[[0.82 0.18]\n",
      " [0.3  0.7 ]]\n"
     ]
    },
    {
     "data": {
      "text/plain": [
       "<matplotlib.axes._subplots.AxesSubplot at 0x7f2c32f65190>"
      ]
     },
     "execution_count": 31,
     "metadata": {},
     "output_type": "execute_result"
    },
    {
     "data": {
      "text/plain": [
       "<Figure size 432x288 with 0 Axes>"
      ]
     },
     "metadata": {},
     "output_type": "display_data"
    },
    {
     "data": {
      "image/png": "[encoded data removed]",
      "text/plain": [
       "<Figure size 432x288 with 2 Axes>"
      ]
     },
     "metadata": {
      "needs_background": "light"
     },
     "output_type": "display_data"
    }
   ],
   "source": [
    "class_names=['Not in Halo','in Halo']\n",
    "# Plot non-normalized confusion matrix\n",
    "plt.figure()\n",
    "plot_confusion_matrix(y_test, pred_class, classes=class_names, normalize=True,\n",
    "                      title='Normalized confusion matrix')"
   ]
  },
  {
   "cell_type": "code",
   "execution_count": null,
   "metadata": {},
   "outputs": [],
   "source": []
  }
 ],
 "metadata": {
  "kernelspec": {
   "display_name": "Python 2",
   "language": "python",
   "name": "python2"
  },
  "language_info": {
   "codemirror_mode": {
    "name": "ipython",
    "version": 2
   },
   "file_extension": ".py",
   "mimetype": "text/x-python",
   "name": "python",
   "nbconvert_exporter": "python",
   "pygments_lexer": "ipython2",
   "version": "2.7.16"
  }
 },
 "nbformat": 4,
 "nbformat_minor": 2
}
