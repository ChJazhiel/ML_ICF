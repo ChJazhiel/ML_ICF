{
 "cells": [
  {
   "cell_type": "markdown",
   "id": "color-eleven",
   "metadata": {},
   "source": [
    "# Load text data\n"
   ]
  },
  {
   "cell_type": "markdown",
   "id": "japanese-platinum",
   "metadata": {},
   "source": [
    "What I will implement is a sereies of codes to classify a IMDB dataset which consist of evenly distributed classes (50% positive reviews and 50% negative reviews), I will implement Logistic regression, decision trees and random forest, ultimately I will try to implement a MLP. \n",
    "\n",
    "First, we load the necessary libraries."
   ]
  },
  {
   "cell_type": "code",
   "execution_count": 1,
   "id": "waiting-rabbit",
   "metadata": {},
   "outputs": [],
   "source": [
    "import numpy as np\n",
    "import pandas as pd\n",
    "import matplotlib.pyplot as plt\n",
    "from sklearn.metrics import accuracy_score\n",
    "import tensorflow as tf\n",
    "%matplotlib inline\n"
   ]
  },
  {
   "cell_type": "markdown",
   "id": "grave-disney",
   "metadata": {},
   "source": [
    "Now we load the dataset"
   ]
  },
  {
   "cell_type": "code",
   "execution_count": 2,
   "id": "republican-philadelphia",
   "metadata": {},
   "outputs": [
    {
     "data": {
      "text/html": [
       "<div>\n",
       "<style scoped>\n",
       "    .dataframe tbody tr th:only-of-type {\n",
       "        vertical-align: middle;\n",
       "    }\n",
       "\n",
       "    .dataframe tbody tr th {\n",
       "        vertical-align: top;\n",
       "    }\n",
       "\n",
       "    .dataframe thead th {\n",
       "        text-align: right;\n",
       "    }\n",
       "</style>\n",
       "<table border=\"1\" class=\"dataframe\">\n",
       "  <thead>\n",
       "    <tr style=\"text-align: right;\">\n",
       "      <th></th>\n",
       "      <th>review</th>\n",
       "      <th>sentiment</th>\n",
       "    </tr>\n",
       "  </thead>\n",
       "  <tbody>\n",
       "    <tr>\n",
       "      <th>0</th>\n",
       "      <td>One of the other reviewers has mentioned that ...</td>\n",
       "      <td>positive</td>\n",
       "    </tr>\n",
       "    <tr>\n",
       "      <th>1</th>\n",
       "      <td>A wonderful little production. &lt;br /&gt;&lt;br /&gt;The...</td>\n",
       "      <td>positive</td>\n",
       "    </tr>\n",
       "    <tr>\n",
       "      <th>2</th>\n",
       "      <td>I thought this was a wonderful way to spend ti...</td>\n",
       "      <td>positive</td>\n",
       "    </tr>\n",
       "    <tr>\n",
       "      <th>3</th>\n",
       "      <td>Basically there's a family where a little boy ...</td>\n",
       "      <td>negative</td>\n",
       "    </tr>\n",
       "    <tr>\n",
       "      <th>4</th>\n",
       "      <td>Petter Mattei's \"Love in the Time of Money\" is...</td>\n",
       "      <td>positive</td>\n",
       "    </tr>\n",
       "  </tbody>\n",
       "</table>\n",
       "</div>"
      ],
      "text/plain": [
       "                                              review sentiment\n",
       "0  One of the other reviewers has mentioned that ...  positive\n",
       "1  A wonderful little production. <br /><br />The...  positive\n",
       "2  I thought this was a wonderful way to spend ti...  positive\n",
       "3  Basically there's a family where a little boy ...  negative\n",
       "4  Petter Mattei's \"Love in the Time of Money\" is...  positive"
      ]
     },
     "execution_count": 2,
     "metadata": {},
     "output_type": "execute_result"
    }
   ],
   "source": [
    "movie_data = pd.read_csv('./Data/IMDB Dataset.csv')\n",
    "movie_data.head()"
   ]
  },
  {
   "cell_type": "code",
   "execution_count": 3,
   "id": "dirty-salon",
   "metadata": {},
   "outputs": [
    {
     "data": {
      "text/plain": [
       "(50000, 2)"
      ]
     },
     "execution_count": 3,
     "metadata": {},
     "output_type": "execute_result"
    }
   ],
   "source": [
    "movie_data.shape"
   ]
  },
  {
   "cell_type": "markdown",
   "id": "paperback-transformation",
   "metadata": {},
   "source": [
    "Since we know this data is evenly distributed we can evaluate our models with A ROC curve and learning curve. but first we neet to do a preprocessing, since our data does not look 'clean' (from the review column we se that we have \"$<br/>$\" brackets and for training a model with text using Natural Language Processing we need to clean as much as we can)."
   ]
  },
  {
   "cell_type": "markdown",
   "id": "simple-prayer",
   "metadata": {},
   "source": [
    "## Processing data\n"
   ]
  },
  {
   "cell_type": "code",
   "execution_count": 4,
   "id": "crazy-signature",
   "metadata": {},
   "outputs": [],
   "source": [
    "### We will process all text data from upper cases to lower cases, we use the re package to search patterns in a string case\n",
    "import re\n",
    "import string\n",
    "def cleanse_text_1(text):\n",
    "    text = text.lower()\n",
    "    #replace the substrings that match with the search pattern with a string of our choice.\n",
    "    text = re.sub('\\[.*?\\]', '', text)\n",
    "    #we use re.escape() to escape all special characters\n",
    "    text = re.sub('[%s]'%re.escape(string.punctuation),'',text)\n",
    "    #to search for word characters we use \\w and \\d for digits\n",
    "    text = re.sub('\\w*\\d\\w*','',text)\n",
    "    return text\n",
    "cleanse1 = lambda x:cleanse_text_1(x)"
   ]
  },
  {
   "cell_type": "markdown",
   "id": "international-freedom",
   "metadata": {},
   "source": [
    "Now we will implement the function 'cleanse_text_1' to our database"
   ]
  },
  {
   "cell_type": "code",
   "execution_count": 5,
   "id": "elect-incentive",
   "metadata": {},
   "outputs": [
    {
     "data": {
      "text/html": [
       "<div>\n",
       "<style scoped>\n",
       "    .dataframe tbody tr th:only-of-type {\n",
       "        vertical-align: middle;\n",
       "    }\n",
       "\n",
       "    .dataframe tbody tr th {\n",
       "        vertical-align: top;\n",
       "    }\n",
       "\n",
       "    .dataframe thead th {\n",
       "        text-align: right;\n",
       "    }\n",
       "</style>\n",
       "<table border=\"1\" class=\"dataframe\">\n",
       "  <thead>\n",
       "    <tr style=\"text-align: right;\">\n",
       "      <th></th>\n",
       "      <th>review</th>\n",
       "      <th>sentiment</th>\n",
       "    </tr>\n",
       "  </thead>\n",
       "  <tbody>\n",
       "    <tr>\n",
       "      <th>0</th>\n",
       "      <td>one of the other reviewers has mentioned that ...</td>\n",
       "      <td>positive</td>\n",
       "    </tr>\n",
       "    <tr>\n",
       "      <th>1</th>\n",
       "      <td>a wonderful little production br br the filmin...</td>\n",
       "      <td>positive</td>\n",
       "    </tr>\n",
       "    <tr>\n",
       "      <th>2</th>\n",
       "      <td>i thought this was a wonderful way to spend ti...</td>\n",
       "      <td>positive</td>\n",
       "    </tr>\n",
       "    <tr>\n",
       "      <th>3</th>\n",
       "      <td>basically theres a family where a little boy j...</td>\n",
       "      <td>negative</td>\n",
       "    </tr>\n",
       "    <tr>\n",
       "      <th>4</th>\n",
       "      <td>petter matteis love in the time of money is a ...</td>\n",
       "      <td>positive</td>\n",
       "    </tr>\n",
       "  </tbody>\n",
       "</table>\n",
       "</div>"
      ],
      "text/plain": [
       "                                              review sentiment\n",
       "0  one of the other reviewers has mentioned that ...  positive\n",
       "1  a wonderful little production br br the filmin...  positive\n",
       "2  i thought this was a wonderful way to spend ti...  positive\n",
       "3  basically theres a family where a little boy j...  negative\n",
       "4  petter matteis love in the time of money is a ...  positive"
      ]
     },
     "execution_count": 5,
     "metadata": {},
     "output_type": "execute_result"
    }
   ],
   "source": [
    "movie_data['review'] = pd.DataFrame(movie_data.review.apply(cleanse1))\n",
    "movie_data.head()"
   ]
  },
  {
   "cell_type": "markdown",
   "id": "romance-lodging",
   "metadata": {},
   "source": [
    "Look on how the data has no upper cases and looks more clean\n"
   ]
  },
  {
   "cell_type": "code",
   "execution_count": null,
   "id": "suspected-official",
   "metadata": {},
   "outputs": [],
   "source": []
  },
  {
   "cell_type": "markdown",
   "id": "surgical-submission",
   "metadata": {},
   "source": [
    "We move forward by replacing any sort of strange punctuation left, such as spaces, commas, etc"
   ]
  },
  {
   "cell_type": "code",
   "execution_count": 6,
   "id": "outdoor-algeria",
   "metadata": {},
   "outputs": [],
   "source": [
    "def cleanse_text_2(text):\n",
    "    text=re.sub('[''\"\",,,]','',text)\n",
    "    #we replace any line jump \\n \n",
    "    text=re.sub('\\n','',text)\n",
    "    return text\n",
    "cleanse2 = lambda x:cleanse_text_2(x)"
   ]
  },
  {
   "cell_type": "markdown",
   "id": "defensive-indonesia",
   "metadata": {},
   "source": [
    "We apply our second filter to our dataset "
   ]
  },
  {
   "cell_type": "code",
   "execution_count": 7,
   "id": "centered-portfolio",
   "metadata": {},
   "outputs": [
    {
     "data": {
      "text/html": [
       "<div>\n",
       "<style scoped>\n",
       "    .dataframe tbody tr th:only-of-type {\n",
       "        vertical-align: middle;\n",
       "    }\n",
       "\n",
       "    .dataframe tbody tr th {\n",
       "        vertical-align: top;\n",
       "    }\n",
       "\n",
       "    .dataframe thead th {\n",
       "        text-align: right;\n",
       "    }\n",
       "</style>\n",
       "<table border=\"1\" class=\"dataframe\">\n",
       "  <thead>\n",
       "    <tr style=\"text-align: right;\">\n",
       "      <th></th>\n",
       "      <th>review</th>\n",
       "      <th>sentiment</th>\n",
       "    </tr>\n",
       "  </thead>\n",
       "  <tbody>\n",
       "    <tr>\n",
       "      <th>0</th>\n",
       "      <td>one of the other reviewers has mentioned that ...</td>\n",
       "      <td>positive</td>\n",
       "    </tr>\n",
       "    <tr>\n",
       "      <th>1</th>\n",
       "      <td>a wonderful little production br br the filmin...</td>\n",
       "      <td>positive</td>\n",
       "    </tr>\n",
       "    <tr>\n",
       "      <th>2</th>\n",
       "      <td>i thought this was a wonderful way to spend ti...</td>\n",
       "      <td>positive</td>\n",
       "    </tr>\n",
       "    <tr>\n",
       "      <th>3</th>\n",
       "      <td>basically theres a family where a little boy j...</td>\n",
       "      <td>negative</td>\n",
       "    </tr>\n",
       "    <tr>\n",
       "      <th>4</th>\n",
       "      <td>petter matteis love in the time of money is a ...</td>\n",
       "      <td>positive</td>\n",
       "    </tr>\n",
       "  </tbody>\n",
       "</table>\n",
       "</div>"
      ],
      "text/plain": [
       "                                              review sentiment\n",
       "0  one of the other reviewers has mentioned that ...  positive\n",
       "1  a wonderful little production br br the filmin...  positive\n",
       "2  i thought this was a wonderful way to spend ti...  positive\n",
       "3  basically theres a family where a little boy j...  negative\n",
       "4  petter matteis love in the time of money is a ...  positive"
      ]
     },
     "execution_count": 7,
     "metadata": {},
     "output_type": "execute_result"
    }
   ],
   "source": [
    "movie_data['review'] = pd.DataFrame(movie_data.review.apply(cleanse2))\n",
    "movie_data.head()"
   ]
  },
  {
   "cell_type": "code",
   "execution_count": 8,
   "id": "french-guyana",
   "metadata": {},
   "outputs": [
    {
     "data": {
      "text/html": [
       "<div>\n",
       "<style scoped>\n",
       "    .dataframe tbody tr th:only-of-type {\n",
       "        vertical-align: middle;\n",
       "    }\n",
       "\n",
       "    .dataframe tbody tr th {\n",
       "        vertical-align: top;\n",
       "    }\n",
       "\n",
       "    .dataframe thead th {\n",
       "        text-align: right;\n",
       "    }\n",
       "</style>\n",
       "<table border=\"1\" class=\"dataframe\">\n",
       "  <thead>\n",
       "    <tr style=\"text-align: right;\">\n",
       "      <th></th>\n",
       "      <th>review</th>\n",
       "      <th>sentiment</th>\n",
       "    </tr>\n",
       "  </thead>\n",
       "  <tbody>\n",
       "    <tr>\n",
       "      <th>49995</th>\n",
       "      <td>i thought this movie did a down right good job...</td>\n",
       "      <td>positive</td>\n",
       "    </tr>\n",
       "    <tr>\n",
       "      <th>49996</th>\n",
       "      <td>bad plot bad dialogue bad acting idiotic direc...</td>\n",
       "      <td>negative</td>\n",
       "    </tr>\n",
       "    <tr>\n",
       "      <th>49997</th>\n",
       "      <td>i am a catholic taught in parochial elementary...</td>\n",
       "      <td>negative</td>\n",
       "    </tr>\n",
       "    <tr>\n",
       "      <th>49998</th>\n",
       "      <td>im going to have to disagree with the previous...</td>\n",
       "      <td>negative</td>\n",
       "    </tr>\n",
       "    <tr>\n",
       "      <th>49999</th>\n",
       "      <td>no one expects the star trek movies to be high...</td>\n",
       "      <td>negative</td>\n",
       "    </tr>\n",
       "  </tbody>\n",
       "</table>\n",
       "</div>"
      ],
      "text/plain": [
       "                                                  review sentiment\n",
       "49995  i thought this movie did a down right good job...  positive\n",
       "49996  bad plot bad dialogue bad acting idiotic direc...  negative\n",
       "49997  i am a catholic taught in parochial elementary...  negative\n",
       "49998  im going to have to disagree with the previous...  negative\n",
       "49999  no one expects the star trek movies to be high...  negative"
      ]
     },
     "execution_count": 8,
     "metadata": {},
     "output_type": "execute_result"
    }
   ],
   "source": [
    "movie_data.tail()"
   ]
  },
  {
   "cell_type": "markdown",
   "id": "flexible-differential",
   "metadata": {},
   "source": [
    "We can move forward and split our data in the train_test_split section"
   ]
  },
  {
   "cell_type": "code",
   "execution_count": 9,
   "id": "round-restriction",
   "metadata": {},
   "outputs": [],
   "source": [
    "from sklearn.model_selection import train_test_split\n",
    "from sklearn.feature_extraction.text import TfidfVectorizer"
   ]
  },
  {
   "cell_type": "markdown",
   "id": "detailed-nurse",
   "metadata": {},
   "source": [
    "We will select our features $x$ as the first column values and our target as the second column values, we will then create a pipeline for our models to train and test, for our features we will get arrays of shape(50000,)."
   ]
  },
  {
   "cell_type": "markdown",
   "id": "directed-silly",
   "metadata": {},
   "source": [
    "Since our labels are strings such as 'Positive' and 'Negative', we would like to encode them in order to evaluate our model with proper values, such as 0 for 'Negative' and 1 for 'Positive'."
   ]
  },
  {
   "cell_type": "code",
   "execution_count": 12,
   "id": "relevant-drawing",
   "metadata": {},
   "outputs": [],
   "source": [
    "copy_movie_data = movie_data.copy(deep=True)\n"
   ]
  },
  {
   "cell_type": "code",
   "execution_count": 13,
   "id": "bizarre-smith",
   "metadata": {},
   "outputs": [
    {
     "data": {
      "text/html": [
       "<div>\n",
       "<style scoped>\n",
       "    .dataframe tbody tr th:only-of-type {\n",
       "        vertical-align: middle;\n",
       "    }\n",
       "\n",
       "    .dataframe tbody tr th {\n",
       "        vertical-align: top;\n",
       "    }\n",
       "\n",
       "    .dataframe thead th {\n",
       "        text-align: right;\n",
       "    }\n",
       "</style>\n",
       "<table border=\"1\" class=\"dataframe\">\n",
       "  <thead>\n",
       "    <tr style=\"text-align: right;\">\n",
       "      <th></th>\n",
       "      <th>review</th>\n",
       "      <th>sentiment</th>\n",
       "    </tr>\n",
       "  </thead>\n",
       "  <tbody>\n",
       "    <tr>\n",
       "      <th>0</th>\n",
       "      <td>one of the other reviewers has mentioned that ...</td>\n",
       "      <td>positive</td>\n",
       "    </tr>\n",
       "    <tr>\n",
       "      <th>1</th>\n",
       "      <td>a wonderful little production br br the filmin...</td>\n",
       "      <td>positive</td>\n",
       "    </tr>\n",
       "    <tr>\n",
       "      <th>2</th>\n",
       "      <td>i thought this was a wonderful way to spend ti...</td>\n",
       "      <td>positive</td>\n",
       "    </tr>\n",
       "    <tr>\n",
       "      <th>3</th>\n",
       "      <td>basically theres a family where a little boy j...</td>\n",
       "      <td>negative</td>\n",
       "    </tr>\n",
       "    <tr>\n",
       "      <th>4</th>\n",
       "      <td>petter matteis love in the time of money is a ...</td>\n",
       "      <td>positive</td>\n",
       "    </tr>\n",
       "    <tr>\n",
       "      <th>...</th>\n",
       "      <td>...</td>\n",
       "      <td>...</td>\n",
       "    </tr>\n",
       "    <tr>\n",
       "      <th>49995</th>\n",
       "      <td>i thought this movie did a down right good job...</td>\n",
       "      <td>positive</td>\n",
       "    </tr>\n",
       "    <tr>\n",
       "      <th>49996</th>\n",
       "      <td>bad plot bad dialogue bad acting idiotic direc...</td>\n",
       "      <td>negative</td>\n",
       "    </tr>\n",
       "    <tr>\n",
       "      <th>49997</th>\n",
       "      <td>i am a catholic taught in parochial elementary...</td>\n",
       "      <td>negative</td>\n",
       "    </tr>\n",
       "    <tr>\n",
       "      <th>49998</th>\n",
       "      <td>im going to have to disagree with the previous...</td>\n",
       "      <td>negative</td>\n",
       "    </tr>\n",
       "    <tr>\n",
       "      <th>49999</th>\n",
       "      <td>no one expects the star trek movies to be high...</td>\n",
       "      <td>negative</td>\n",
       "    </tr>\n",
       "  </tbody>\n",
       "</table>\n",
       "<p>50000 rows × 2 columns</p>\n",
       "</div>"
      ],
      "text/plain": [
       "                                                  review sentiment\n",
       "0      one of the other reviewers has mentioned that ...  positive\n",
       "1      a wonderful little production br br the filmin...  positive\n",
       "2      i thought this was a wonderful way to spend ti...  positive\n",
       "3      basically theres a family where a little boy j...  negative\n",
       "4      petter matteis love in the time of money is a ...  positive\n",
       "...                                                  ...       ...\n",
       "49995  i thought this movie did a down right good job...  positive\n",
       "49996  bad plot bad dialogue bad acting idiotic direc...  negative\n",
       "49997  i am a catholic taught in parochial elementary...  negative\n",
       "49998  im going to have to disagree with the previous...  negative\n",
       "49999  no one expects the star trek movies to be high...  negative\n",
       "\n",
       "[50000 rows x 2 columns]"
      ]
     },
     "execution_count": 13,
     "metadata": {},
     "output_type": "execute_result"
    }
   ],
   "source": [
    "copy_movie_data"
   ]
  },
  {
   "cell_type": "code",
   "execution_count": 15,
   "id": "metropolitan-composition",
   "metadata": {},
   "outputs": [
    {
     "name": "stdout",
     "output_type": "stream",
     "text": [
      "[1 0]\n"
     ]
    }
   ],
   "source": [
    "from sklearn.preprocessing import LabelEncoder\n",
    "label = LabelEncoder() \n",
    " \n",
    "copy_movie_data['sentiment']= label.fit_transform(copy_movie_data['sentiment']) \n",
    "print(copy_movie_data['sentiment'].unique())\n"
   ]
  },
  {
   "cell_type": "markdown",
   "id": "instrumental-context",
   "metadata": {},
   "source": [
    "We see now there is a 0 instead of 'negative' and 1 instead of 'positive', this will make gurther computations easy"
   ]
  },
  {
   "cell_type": "code",
   "execution_count": 17,
   "id": "found-observer",
   "metadata": {},
   "outputs": [
    {
     "data": {
      "text/html": [
       "<div>\n",
       "<style scoped>\n",
       "    .dataframe tbody tr th:only-of-type {\n",
       "        vertical-align: middle;\n",
       "    }\n",
       "\n",
       "    .dataframe tbody tr th {\n",
       "        vertical-align: top;\n",
       "    }\n",
       "\n",
       "    .dataframe thead th {\n",
       "        text-align: right;\n",
       "    }\n",
       "</style>\n",
       "<table border=\"1\" class=\"dataframe\">\n",
       "  <thead>\n",
       "    <tr style=\"text-align: right;\">\n",
       "      <th></th>\n",
       "      <th>review</th>\n",
       "      <th>sentiment</th>\n",
       "    </tr>\n",
       "  </thead>\n",
       "  <tbody>\n",
       "    <tr>\n",
       "      <th>0</th>\n",
       "      <td>one of the other reviewers has mentioned that ...</td>\n",
       "      <td>1</td>\n",
       "    </tr>\n",
       "    <tr>\n",
       "      <th>1</th>\n",
       "      <td>a wonderful little production br br the filmin...</td>\n",
       "      <td>1</td>\n",
       "    </tr>\n",
       "    <tr>\n",
       "      <th>2</th>\n",
       "      <td>i thought this was a wonderful way to spend ti...</td>\n",
       "      <td>1</td>\n",
       "    </tr>\n",
       "    <tr>\n",
       "      <th>3</th>\n",
       "      <td>basically theres a family where a little boy j...</td>\n",
       "      <td>0</td>\n",
       "    </tr>\n",
       "    <tr>\n",
       "      <th>4</th>\n",
       "      <td>petter matteis love in the time of money is a ...</td>\n",
       "      <td>1</td>\n",
       "    </tr>\n",
       "    <tr>\n",
       "      <th>...</th>\n",
       "      <td>...</td>\n",
       "      <td>...</td>\n",
       "    </tr>\n",
       "    <tr>\n",
       "      <th>49995</th>\n",
       "      <td>i thought this movie did a down right good job...</td>\n",
       "      <td>1</td>\n",
       "    </tr>\n",
       "    <tr>\n",
       "      <th>49996</th>\n",
       "      <td>bad plot bad dialogue bad acting idiotic direc...</td>\n",
       "      <td>0</td>\n",
       "    </tr>\n",
       "    <tr>\n",
       "      <th>49997</th>\n",
       "      <td>i am a catholic taught in parochial elementary...</td>\n",
       "      <td>0</td>\n",
       "    </tr>\n",
       "    <tr>\n",
       "      <th>49998</th>\n",
       "      <td>im going to have to disagree with the previous...</td>\n",
       "      <td>0</td>\n",
       "    </tr>\n",
       "    <tr>\n",
       "      <th>49999</th>\n",
       "      <td>no one expects the star trek movies to be high...</td>\n",
       "      <td>0</td>\n",
       "    </tr>\n",
       "  </tbody>\n",
       "</table>\n",
       "<p>50000 rows × 2 columns</p>\n",
       "</div>"
      ],
      "text/plain": [
       "                                                  review  sentiment\n",
       "0      one of the other reviewers has mentioned that ...          1\n",
       "1      a wonderful little production br br the filmin...          1\n",
       "2      i thought this was a wonderful way to spend ti...          1\n",
       "3      basically theres a family where a little boy j...          0\n",
       "4      petter matteis love in the time of money is a ...          1\n",
       "...                                                  ...        ...\n",
       "49995  i thought this movie did a down right good job...          1\n",
       "49996  bad plot bad dialogue bad acting idiotic direc...          0\n",
       "49997  i am a catholic taught in parochial elementary...          0\n",
       "49998  im going to have to disagree with the previous...          0\n",
       "49999  no one expects the star trek movies to be high...          0\n",
       "\n",
       "[50000 rows x 2 columns]"
      ]
     },
     "execution_count": 17,
     "metadata": {},
     "output_type": "execute_result"
    }
   ],
   "source": [
    "copy_movie_data"
   ]
  },
  {
   "cell_type": "code",
   "execution_count": 18,
   "id": "automatic-germany",
   "metadata": {},
   "outputs": [],
   "source": [
    "x = movie_data.iloc[0:,0].values\n",
    "y = movie_data.iloc[0:,1].values\n",
    "y_encoded = copy_movie_data.iloc[0:,1].values"
   ]
  },
  {
   "cell_type": "code",
   "execution_count": 19,
   "id": "sealed-requirement",
   "metadata": {},
   "outputs": [
    {
     "data": {
      "text/plain": [
       "(50000,)"
      ]
     },
     "execution_count": 19,
     "metadata": {},
     "output_type": "execute_result"
    }
   ],
   "source": [
    "x.shape"
   ]
  },
  {
   "cell_type": "code",
   "execution_count": 20,
   "id": "mineral-defensive",
   "metadata": {},
   "outputs": [
    {
     "name": "stdout",
     "output_type": "stream",
     "text": [
      "['one of the other reviewers has mentioned that after watching just  oz episode youll be hooked they are right as this is exactly what happened with mebr br the first thing that struck me about oz was its brutality and unflinching scenes of violence which set in right from the word go trust me this is not a show for the faint hearted or timid this show pulls no punches with regards to drugs sex or violence its is hardcore in the classic use of the wordbr br it is called oz as that is the nickname given to the oswald maximum security state penitentary it focuses mainly on emerald city an experimental section of the prison where all the cells have glass fronts and face inwards so privacy is not high on the agenda em city is home to manyaryans muslims gangstas latinos christians italians irish and moreso scuffles death stares dodgy dealings and shady agreements are never far awaybr br i would say the main appeal of the show is due to the fact that it goes where other shows wouldnt dare forget pretty pictures painted for mainstream audiences forget charm forget romanceoz doesnt mess around the first episode i ever saw struck me as so nasty it was surreal i couldnt say i was ready for it but as i watched more i developed a taste for oz and got accustomed to the high levels of graphic violence not just violence but injustice crooked guards wholl be sold out for a nickel inmates wholl kill on order and get away with it well mannered middle class inmates being turned into prison bitches due to their lack of street skills or prison experience watching oz you may become comfortable with what is uncomfortable viewingthats if you can get in touch with your darker side'\n",
      " 'a wonderful little production br br the filming technique is very unassuming very oldtimebbc fashion and gives a comforting and sometimes discomforting sense of realism to the entire piece br br the actors are extremely well chosen michael sheen not only has got all the polari but he has all the voices down pat too you can truly see the seamless editing guided by the references to williams diary entries not only is it well worth the watching but it is a terrificly written and performed piece a masterful production about one of the great masters of comedy and his life br br the realism really comes home with the little things the fantasy of the guard which rather than use the traditional dream techniques remains solid then disappears it plays on our knowledge and our senses particularly with the scenes concerning orton and halliwell and the sets particularly of their flat with halliwells murals decorating every surface are terribly well done'\n",
      " 'i thought this was a wonderful way to spend time on a too hot summer weekend sitting in the air conditioned theater and watching a lighthearted comedy the plot is simplistic but the dialogue is witty and the characters are likable even the well bread suspected serial killer while some may be disappointed when they realize this is not match point  risk addiction i thought it was proof that woody allen is still fully in control of the style many of us have grown to lovebr br this was the most id laughed at one of woodys comedies in years dare i say a decade while ive never been impressed with scarlet johanson in this she managed to tone down her sexy image and jumped right into a average but spirited young womanbr br this may not be the crown jewel of his career but it was wittier than devil wears prada and more interesting than superman a great comedy to go see with friends'\n",
      " ...\n",
      " 'i am a catholic taught in parochial elementary schools by nuns taught by jesuit priests in high school  college i am still a practicing catholic but would not be considered a good catholic in the churchs eyes because i dont believe certain things or act certain ways just because the church tells me tobr br so back to the movieits bad because two people are killed by this nun who is supposed to be a satire as the embodiment of a female religious figurehead there is no comedy in that and the satire is not done well by the over acting of diane keaton i never saw the play but if it was very different from this movies then it may be goodbr br at first i thought the gun might be a fake and the first shooting all a plan by the female lead of the four former students as an attempt to demonstrate sister marys emotional and intellectual bigotry of faith but it turns out the bullets were real and the story has tragedythe tragedy of loss of life besides the two former studentsthe lives of the aborted babies the life of the students mom the tragedy of dogmatic authority over love of people the tragedy of organized religion replacing true faith in god this is what is wrong with todays islam and yesterdays judaism and christianity'\n",
      " 'im going to have to disagree with the previous comment and side with maltin on this one this is a second rate excessively vicious western that creaks and groans trying to put across its central theme of the wild west being tamed and kicked aside by the steady march of time it would like to be in the tradition of butch cassidy and the sundance kid but lacks that films poignancy and charm andrew mclaglens direction is limp and the final  minutes or so are a real botch with some incomprehensible strategy on the part of heroes charlton heston and chris mitchum someone give me a holler if you can explain to me why they set that hillside on fire there was something callous about the whole treatment of the rape scene and the womans reaction afterwards certainly did not ring true coburn is plenty nasty as the half breed escaped convict out for revenge but all of his fellow escapees are underdeveloped theyre like bowling pins to be knocked down one by one as the story lurches forward michael parks gives one of his typically shifty lethargic mumbling performances but in this case it was appropriate as his modern style sheriff symbolizes the complacency that technological progress can bring about'\n",
      " 'no one expects the star trek movies to be high art but the fans do expect a movie that is as good as some of the best episodes unfortunately this movie had a muddled implausible plot that just left me cringing  this is by far the worst of the nine so far movies even the chance to watch the well known characters interact in another movie cant save this movie  including the goofy scenes with kirk spock and mccoy at yosemitebr br i would say this movie is not worth a rental and hardly worth watching however for the true fan who needs to see all the movies renting this movie is about the only way youll see it  even the cable channels avoid this movie']\n"
     ]
    }
   ],
   "source": [
    "print(x)"
   ]
  },
  {
   "cell_type": "markdown",
   "id": "adjacent-cardiff",
   "metadata": {},
   "source": [
    "For our next step, we will split our train and test sets in a 80/20 (80% training, 20% testing) scenario, I like to do this to ensure efficiency of the model, we can see, however, if the model can be better with less training and more testing further on."
   ]
  },
  {
   "cell_type": "code",
   "execution_count": 144,
   "id": "brown-report",
   "metadata": {},
   "outputs": [],
   "source": [
    "X_train, X_test, y_train, y_test = train_test_split(x, y_encoded, test_size = 0.20, random_state = 43)"
   ]
  },
  {
   "cell_type": "code",
   "execution_count": 145,
   "id": "communist-exercise",
   "metadata": {},
   "outputs": [
    {
     "data": {
      "text/plain": [
       "array([1, 1, 1, ..., 1, 1, 0])"
      ]
     },
     "execution_count": 145,
     "metadata": {},
     "output_type": "execute_result"
    }
   ],
   "source": [
    "y_test"
   ]
  },
  {
   "cell_type": "markdown",
   "id": "increased-engagement",
   "metadata": {},
   "source": [
    "The Tfidf vectorizer module on sklearn allows us to convert any text found in pure dataset in a sort of matrix of Term Frequency Inverse Document Frequency. This allows us to transform the text in a more meaningful data representing numbers four our ML model, it counts the frequency of text found in the array and makes a matrix of elements which is more easy to understand."
   ]
  },
  {
   "cell_type": "code",
   "execution_count": 146,
   "id": "ordered-navigation",
   "metadata": {},
   "outputs": [],
   "source": [
    "from sklearn.pipeline import Pipeline\n",
    "tf = TfidfVectorizer()"
   ]
  },
  {
   "cell_type": "markdown",
   "id": "physical-momentum",
   "metadata": {},
   "source": [
    "## Now we focus on building our first model"
   ]
  },
  {
   "cell_type": "code",
   "execution_count": 147,
   "id": "flush-colonial",
   "metadata": {},
   "outputs": [
    {
     "data": {
      "text/plain": [
       "Pipeline(steps=[('vectorizer', TfidfVectorizer()),\n",
       "                ('classifier', LogisticRegression())])"
      ]
     },
     "execution_count": 147,
     "metadata": {},
     "output_type": "execute_result"
    }
   ],
   "source": [
    "from sklearn.linear_model import LogisticRegression\n",
    "classifier1 = LogisticRegression()\n",
    "model1 = Pipeline([('vectorizer', tf), ('classifier', classifier1)])\n",
    "\n",
    "model1.fit(X_train, y_train)"
   ]
  },
  {
   "cell_type": "code",
   "execution_count": 148,
   "id": "ethical-improvement",
   "metadata": {},
   "outputs": [
    {
     "data": {
      "text/plain": [
       "array([0, 1, 1, ..., 1, 0, 0])"
      ]
     },
     "execution_count": 148,
     "metadata": {},
     "output_type": "execute_result"
    }
   ],
   "source": [
    "y_pred_1 = model1.predict(X_test)\n",
    "y_pred_1"
   ]
  },
  {
   "cell_type": "code",
   "execution_count": 149,
   "id": "unusual-highland",
   "metadata": {},
   "outputs": [
    {
     "data": {
      "text/plain": [
       "0.8938"
      ]
     },
     "execution_count": 149,
     "metadata": {},
     "output_type": "execute_result"
    }
   ],
   "source": [
    "accuracy_score(y_pred_1, y_test)"
   ]
  },
  {
   "cell_type": "markdown",
   "id": "alone-genealogy",
   "metadata": {},
   "source": [
    "This next module helps us to visualize a confusion matrix"
   ]
  },
  {
   "cell_type": "code",
   "execution_count": 150,
   "id": "cardiac-computer",
   "metadata": {},
   "outputs": [],
   "source": [
    "from sklearn.metrics import confusion_matrix\n",
    "from sklearn.utils.multiclass import unique_labels\n",
    "def plot_confusion_matrix(y_true, y_pred, classes,\n",
    "                          normalize=False,\n",
    "                          title=None,\n",
    "                          cmap=plt.cm.Blues):\n",
    "    \"\"\"\n",
    "    This function prints and plots the confusion matrix.\n",
    "    Normalization can be applied by setting `normalize=True`.\n",
    "    \"\"\"\n",
    "    if not title:\n",
    "        if normalize:\n",
    "            title = 'Normalized confusion matrix'\n",
    "        else:\n",
    "            title = 'Confusion matrix, without normalization'\n",
    "\n",
    "    # Compute confusion matrix\n",
    "    cm = confusion_matrix(y_true, y_pred)\n",
    "    # Only use the labels that appear in the data\n",
    "    classes = classes\n",
    "    if normalize:\n",
    "        cm = cm.astype('float') / cm.sum(axis=1)[:, np.newaxis]\n",
    "        print(\"Normalized confusion matrix\")\n",
    "    else:\n",
    "        print('Confusion matrix, without normalization')\n",
    "\n",
    "    print(cm)\n",
    "\n",
    "    fig, ax = plt.subplots()\n",
    "    im = ax.imshow(cm, interpolation='nearest', cmap=cmap)\n",
    "    ax.figure.colorbar(im, ax=ax)\n",
    "    # We want to show all ticks...\n",
    "    ax.set(xticks=np.arange(cm.shape[1]),\n",
    "           yticks=np.arange(cm.shape[0]),\n",
    "           # ... and label them with the respective list entries\n",
    "           xticklabels=classes, yticklabels=classes,\n",
    "           title=title,\n",
    "           ylabel='True label',\n",
    "           xlabel='Predicted label')\n",
    "\n",
    "    # Rotate the tick labels and set their alignment.\n",
    "    plt.setp(ax.get_xticklabels(), rotation=45, ha=\"right\",\n",
    "             rotation_mode=\"anchor\")\n",
    "\n",
    "    # Loop over data dimensions and create text annotations.\n",
    "    fmt = '.2f' if normalize else 'd'\n",
    "    thresh = cm.max() / 2.\n",
    "    for i in range(cm.shape[0]):\n",
    "        for j in range(cm.shape[1]):\n",
    "            ax.text(j, i, format(cm[i, j], fmt),\n",
    "                    ha=\"center\", va=\"center\",\n",
    "                    color=\"white\" if cm[i, j] > thresh else \"black\")\n",
    "    fig.tight_layout()\n",
    "    return ax\n",
    "\n",
    "\n",
    "np.set_printoptions(precision=2)"
   ]
  },
  {
   "cell_type": "code",
   "execution_count": 151,
   "id": "naughty-florence",
   "metadata": {},
   "outputs": [
    {
     "name": "stdout",
     "output_type": "stream",
     "text": [
      "Normalized confusion matrix\n",
      "[[0.88 0.12]\n",
      " [0.1  0.9 ]]\n"
     ]
    },
    {
     "data": {
      "text/plain": [
       "<Figure size 432x288 with 0 Axes>"
      ]
     },
     "metadata": {},
     "output_type": "display_data"
    },
    {
     "data": {
      "image/png": "[encoded data removed]",
      "text/plain": [
       "<Figure size 432x288 with 2 Axes>"
      ]
     },
     "metadata": {},
     "output_type": "display_data"
    }
   ],
   "source": [
    "\n",
    "class_names=['Negative','Positive']\n",
    "# Plot non-normalized confusion matrix\n",
    "plt.figure()\n",
    "plot_confusion_matrix(y_test, y_pred_1, classes=class_names,normalize = True,\n",
    "                      title='Confusion matrix: Logistic Regression')\n",
    "plt.grid(False)"
   ]
  },
  {
   "cell_type": "markdown",
   "id": "convenient-setup",
   "metadata": {},
   "source": [
    "### ROC Curve\n"
   ]
  },
  {
   "cell_type": "markdown",
   "id": "dress-shirt",
   "metadata": {},
   "source": [
    "It tells us the trade off between the true positive and false positive elements computed by the algorithm"
   ]
  },
  {
   "cell_type": "code",
   "execution_count": 152,
   "id": "intellectual-round",
   "metadata": {},
   "outputs": [
    {
     "name": "stdout",
     "output_type": "stream",
     "text": [
      "Random prediction: AUC = 0.500\n",
      "Logistic Regression: AUC = 0.894\n"
     ]
    },
    {
     "data": {
      "image/png": "[encoded data removed]",
      "text/plain": [
       "<Figure size 432x288 with 1 Axes>"
      ]
     },
     "metadata": {},
     "output_type": "display_data"
    }
   ],
   "source": [
    "plt.style.use('ggplot')\n",
    "#random probabilities: our model is not learning\n",
    "r_probs = [0 for _ in range(len(y_test))]\n",
    "#logistic regression probabilities\n",
    "lr_probs = model1.predict_proba(X_test)\n",
    "#We will use only positive values\n",
    "lr_probs = lr_probs[:,1]\n",
    "\n",
    "from sklearn.metrics import roc_auc_score, roc_curve, auc\n",
    "\n",
    "#random area under curve\n",
    "r_auc = roc_auc_score(y_test, r_probs)\n",
    "#logistic recression area under curve\n",
    "lr_auc = roc_auc_score(y_test, y_pred_1)\n",
    "\n",
    "print(\"Random prediction: AUC = %.3f\" % (r_auc))\n",
    "print(\"Logistic Regression: AUC = %.3f\" % (lr_auc))\n",
    "\n",
    "#True positive ratio and false positive ratio computations\n",
    "# Random Choice\n",
    "r_fpr, r_tpr, _= roc_curve(y_test, r_probs)\n",
    "#Logistic regression model\n",
    "lr_fpr, lr_tpr, _ = roc_curve(y_test, lr_probs)\n",
    "#we plot the ROC curve\n",
    "plt.plot(r_fpr, r_tpr, linestyle='--', label = 'Random prediction (AUC = %0.3f)' % r_auc)\n",
    "#logistic regression model\n",
    "plt.plot(lr_fpr, lr_tpr, linestyle='-', label = 'Logistic Regression prediction (AUC = %0.3f)' % lr_auc)\n",
    "plt.title('ROC plot, Logistic Regression for IMDB sentiment dataset')\n",
    "plt.xlabel('False Positive Rate')\n",
    "plt.ylabel('True Positive Rate')\n",
    "\n",
    "plt.legend()\n",
    "\n",
    "plt.show()\n",
    "\n"
   ]
  },
  {
   "cell_type": "markdown",
   "id": "complimentary-registration",
   "metadata": {},
   "source": [
    "It looks pretty neat! In fact it seems it is almost perfect, let´s do a cross validation testing to see if our model is not overfitting"
   ]
  },
  {
   "cell_type": "code",
   "execution_count": 34,
   "id": "determined-barcelona",
   "metadata": {},
   "outputs": [],
   "source": [
    "from sklearn.model_selection import learning_curve\n",
    "#We create CV training and test scores for various training set sizes\n",
    "train_sizes, train_scores, test_scores = learning_curve(model1,\n",
    "                                                     x,\n",
    "                                                     y_encoded,\n",
    "                                                     #Number of folds in cross validation\n",
    "                                                     cv = 10,\n",
    "                                                     #Evaluation metric\n",
    "                                                     scoring = 'accuracy',\n",
    "                                                     #use all computers\n",
    "                                                     n_jobs = -1,\n",
    "                                                     # 50 different sizes of training set\n",
    "                                                     train_sizes = np.linspace(0.01, 1.0, 50))"
   ]
  },
  {
   "cell_type": "code",
   "execution_count": 36,
   "id": "departmental-armstrong",
   "metadata": {},
   "outputs": [
    {
     "data": {
      "image/png": "[encoded data removed]",
      "text/plain": [
       "<Figure size 432x288 with 1 Axes>"
      ]
     },
     "metadata": {},
     "output_type": "display_data"
    }
   ],
   "source": [
    "#create means and standard deviations for train set scores\n",
    "\n",
    "train_mean = np.mean(train_scores, axis = 1)\n",
    "train_std = np.std(train_scores, axis = 1)\n",
    "\n",
    "#create mean and standar deviations for test set scores\n",
    "\n",
    "test_mean = np.mean(test_scores, axis = 1)\n",
    "test_std = np.std(test_scores, axis = 1)\n",
    "\n",
    "#Draw Lines \n",
    "plt.plot(train_sizes, train_mean, '--', color = 'r', label = 'Training Score')\n",
    "plt.plot(train_sizes, test_mean, color = 'b', label = 'Cross-validation Score')\n",
    "\n",
    "#Draw standard deviation\n",
    "plt.fill_between(train_sizes,\n",
    "                 train_mean - train_std,\n",
    "                 train_mean + train_std,\n",
    "                 color ='r', alpha = 0.15)\n",
    "\n",
    "plt.fill_between(train_sizes,\n",
    "                 test_mean - test_std,\n",
    "                 test_mean + test_std,\n",
    "                 color ='b', alpha = 0.15)\n",
    "\n",
    "#create plot\n",
    "plt.title(\"Learning Curve: Logistic Regression IMBD sentiment dataset\")\n",
    "plt.xlabel(\"Training Set Size\"), plt.ylabel(\"Accuraccy score\"), plt.legend(loc=\"best\")\n",
    "plt.tight_layout()\n",
    "plt.show()"
   ]
  },
  {
   "cell_type": "markdown",
   "id": "potential-convention",
   "metadata": {},
   "source": [
    "It looks correct and ready to go, the training and corss validation curves seems to not to tend the overfit or underfit, they look like they will follow a parallel line, which is incredible. Let's now focus on using 2 other classification algorithms, decision trees and random forests"
   ]
  },
  {
   "cell_type": "markdown",
   "id": "exclusive-librarian",
   "metadata": {},
   "source": [
    "## Decission tree Classifier\n"
   ]
  },
  {
   "cell_type": "markdown",
   "id": "celtic-notion",
   "metadata": {},
   "source": []
  },
  {
   "cell_type": "code",
   "execution_count": 127,
   "id": "resistant-reading",
   "metadata": {},
   "outputs": [],
   "source": [
    "#from sklearn.model_selection import RandomizedSearchCV\n",
    "#we only have one feature\n",
    "#max_features = ['auto', 1]\n",
    "#Maximum number of levels in tree\n",
    "#max_depth = [int(x) for x in np.linspace(1, 10, num = 10)]\n",
    "#max_depth.append(None)\n",
    "#minimum of samples required to split a node\n",
    "#min_samples_split = [20, 50, 100, 200, 1000]\n",
    "#Minumum samples required at each leaf node\n",
    "#min_samples_leaf = [10, 20, 45, 100]\n",
    "#we create a dictionary of random values in our grid\n",
    "#random_grid_DT = {'max_features':max_features,\n",
    "#                  'max_depth':max_depth,\n",
    "#                  'min_samples_split':min_samples_split,\n",
    "#                  'min_samples_leaf':min_samples_leaf}\n",
    "\n",
    "#pprint(random_grid_DT)\n",
    "from sklearn.tree import DecisionTreeClassifier\n",
    "##We use criterion=entropy for binary classification tasks (in my personal opinion it's best than Gini Index)\n",
    "classifier2 = DecisionTreeClassifier(criterion='entropy', class_weight='balanced', min_samples_leaf=200, max_depth=20, min_samples_split=20)\n",
    "model2 = Pipeline([('vectorizer', tf), ('classifier', classifier2)])\n",
    "\n",
    "\n",
    "\n",
    "#dt_random = RandomizedSearchCV(estimator = classifier2, param_distributions=random_grid_DT, n_iter=100, cv = 3, verbose=2,\n",
    " #                             random_state = 0, n_jobs=-1)\n",
    "\n",
    "#dt_random.fit(X_train, y_train)"
   ]
  },
  {
   "cell_type": "code",
   "execution_count": 128,
   "id": "wrapped-satin",
   "metadata": {},
   "outputs": [],
   "source": [
    "from sklearn.tree import DecisionTreeClassifier\n",
    "##We use criterion=entropy for binary classification tasks (in my personal opinion it's best than Gini Index)\n",
    "classifier2 = DecisionTreeClassifier(criterion='entropy',\n",
    "                                     class_weight='balanced',\n",
    "                                     min_samples_leaf=500,\n",
    "                                     max_depth=100,\n",
    "                                     min_samples_split=500)\n",
    "model2 = Pipeline([('vectorizer', tf), ('classifier', classifier2)])\n"
   ]
  },
  {
   "cell_type": "code",
   "execution_count": 129,
   "id": "oriental-modeling",
   "metadata": {},
   "outputs": [
    {
     "data": {
      "text/plain": [
       "Pipeline(steps=[('vectorizer', TfidfVectorizer()),\n",
       "                ('classifier',\n",
       "                 DecisionTreeClassifier(class_weight='balanced',\n",
       "                                        criterion='entropy', max_depth=100,\n",
       "                                        min_samples_leaf=500,\n",
       "                                        min_samples_split=500))])"
      ]
     },
     "execution_count": 129,
     "metadata": {},
     "output_type": "execute_result"
    }
   ],
   "source": [
    "model2.fit(X_train, y_train)"
   ]
  },
  {
   "cell_type": "code",
   "execution_count": 130,
   "id": "young-knowing",
   "metadata": {},
   "outputs": [],
   "source": [
    "y_pred_2 = model2.predict(X_test)"
   ]
  },
  {
   "cell_type": "code",
   "execution_count": 131,
   "id": "broke-spring",
   "metadata": {},
   "outputs": [
    {
     "data": {
      "text/plain": [
       "array([0, 0, 0, ..., 1, 0, 1])"
      ]
     },
     "execution_count": 131,
     "metadata": {},
     "output_type": "execute_result"
    }
   ],
   "source": [
    "y_pred_2"
   ]
  },
  {
   "cell_type": "code",
   "execution_count": 132,
   "id": "mineral-resident",
   "metadata": {},
   "outputs": [
    {
     "name": "stdout",
     "output_type": "stream",
     "text": [
      "Normalized confusion matrix\n",
      "[[0.7  0.3 ]\n",
      " [0.26 0.74]]\n"
     ]
    },
    {
     "data": {
      "text/plain": [
       "<Figure size 432x288 with 0 Axes>"
      ]
     },
     "metadata": {},
     "output_type": "display_data"
    },
    {
     "data": {
      "image/png": "[encoded data removed]",
      "text/plain": [
       "<Figure size 432x288 with 2 Axes>"
      ]
     },
     "metadata": {},
     "output_type": "display_data"
    }
   ],
   "source": [
    "class_names=['Negative','Positive']\n",
    "# Plot non-normalized confusion matrix\n",
    "plt.figure()\n",
    "plot_confusion_matrix(y_test, y_pred_2, classes=class_names,normalize = True,\n",
    "                      title='Confusion matrix: Decision Tree')\n",
    "plt.grid(False)\n",
    "plt.show()"
   ]
  },
  {
   "cell_type": "code",
   "execution_count": 133,
   "id": "looking-refrigerator",
   "metadata": {},
   "outputs": [
    {
     "name": "stdout",
     "output_type": "stream",
     "text": [
      "Random prediction: AUC = 0.500\n",
      "Decision Tree: AUC = 0.720\n"
     ]
    },
    {
     "data": {
      "image/png": "[encoded data removed]",
      "text/plain": [
       "<Figure size 432x288 with 1 Axes>"
      ]
     },
     "metadata": {},
     "output_type": "display_data"
    }
   ],
   "source": [
    "plt.style.use('ggplot')\n",
    "#random probabilities: our model is not learning\n",
    "r_probs = [0 for _ in range(len(y_test))]\n",
    "#logistic regression probabilities\n",
    "dt_probs = model2.predict_proba(X_test)\n",
    "#We will use only positive values\n",
    "dt_probs = dt_probs[:,1]\n",
    "\n",
    "from sklearn.metrics import roc_auc_score, roc_curve, auc\n",
    "\n",
    "#random area under curve\n",
    "r_auc = roc_auc_score(y_test, r_probs)\n",
    "#logistic recression area under curve\n",
    "dt_auc = roc_auc_score(y_test, y_pred_2)\n",
    "\n",
    "print(\"Random prediction: AUC = %.3f\" % (r_auc))\n",
    "print(\"Decision Tree: AUC = %.3f\" % (dt_auc))\n",
    "\n",
    "#True positive ratio and false positive ratio computations\n",
    "# Random Choice\n",
    "r_fpr, r_tpr, _= roc_curve(y_test, r_probs)\n",
    "#Decision Tree model\n",
    "dt_fpr, dt_tpr, _ = roc_curve(y_test, dt_probs)\n",
    "#we plot the ROC curve\n",
    "plt.plot(r_fpr, r_tpr, linestyle='--', label = 'Random prediction (AUC = %0.3f)' % r_auc)\n",
    "#Decision tree model\n",
    "plt.plot(dt_fpr, dt_tpr, linestyle='-', label = 'Decision Tree prediction (AUC = %0.3f)' % dt_auc)\n",
    "plt.title('ROC plot, Decision Tree for IMDB sentiment dataset')\n",
    "plt.xlabel('False Positive Rate')\n",
    "plt.ylabel('True Positive Rate')\n",
    "\n",
    "plt.legend()\n",
    "\n",
    "plt.show()\n",
    "\n"
   ]
  },
  {
   "cell_type": "code",
   "execution_count": 161,
   "id": "native-triangle",
   "metadata": {},
   "outputs": [],
   "source": [
    "from sklearn.ensemble import RandomForestClassifier\n",
    "##We use criterion=entropy for binary classification tasks (in my personal opinion it's best than Gini Index)\n",
    "classifier3 = RandomForestClassifier(n_estimators=3000,\n",
    "                                     criterion='entropy',\n",
    "                                     class_weight='balanced',\n",
    "                                     min_samples_leaf=500,\n",
    "                                     max_depth=100,\n",
    "                                     min_samples_split=500)\n",
    "model3 = Pipeline([('vectorizer', tf), ('classifier', classifier3)])\n"
   ]
  },
  {
   "cell_type": "code",
   "execution_count": 162,
   "id": "every-trauma",
   "metadata": {},
   "outputs": [],
   "source": [
    "model3.fit(X_train, y_train)\n",
    "y_pred_3 = model3.predict(X_test)"
   ]
  },
  {
   "cell_type": "code",
   "execution_count": 163,
   "id": "announced-appraisal",
   "metadata": {},
   "outputs": [
    {
     "name": "stdout",
     "output_type": "stream",
     "text": [
      "Normalized confusion matrix\n",
      "[[0.78 0.22]\n",
      " [0.18 0.82]]\n"
     ]
    },
    {
     "data": {
      "text/plain": [
       "<Figure size 432x288 with 0 Axes>"
      ]
     },
     "metadata": {},
     "output_type": "display_data"
    },
    {
     "data": {
      "image/png": "[encoded data removed]",
      "text/plain": [
       "<Figure size 432x288 with 2 Axes>"
      ]
     },
     "metadata": {},
     "output_type": "display_data"
    }
   ],
   "source": [
    "class_names=['Negative','Positive']\n",
    "# Plot non-normalized confusion matrix\n",
    "plt.figure()\n",
    "plot_confusion_matrix(y_test, y_pred_3, classes=class_names,normalize = True,\n",
    "                      title='Confusion matrix: Random Forest')\n",
    "plt.grid(False)\n",
    "plt.show()"
   ]
  },
  {
   "cell_type": "code",
   "execution_count": 164,
   "id": "improved-drinking",
   "metadata": {},
   "outputs": [
    {
     "name": "stdout",
     "output_type": "stream",
     "text": [
      "Random prediction: AUC = 0.500\n",
      "Random Forest: AUC = 0.799\n"
     ]
    },
    {
     "data": {
      "image/png": "[encoded data removed]",
      "text/plain": [
       "<Figure size 432x288 with 1 Axes>"
      ]
     },
     "metadata": {},
     "output_type": "display_data"
    }
   ],
   "source": [
    "plt.style.use('ggplot')\n",
    "#random probabilities: our model is not learning\n",
    "r_probs = [0 for _ in range(len(y_test))]\n",
    "#logistic regression probabilities\n",
    "rf_probs = model3.predict_proba(X_test)\n",
    "#We will use only positive values\n",
    "rf_probs = rf_probs[:,1]\n",
    "\n",
    "from sklearn.metrics import roc_auc_score, roc_curve, auc\n",
    "\n",
    "#random area under curve\n",
    "r_auc = roc_auc_score(y_test, r_probs)\n",
    "#logistic recression area under curve\n",
    "rf_auc = roc_auc_score(y_test, y_pred_3)\n",
    "\n",
    "print(\"Random prediction: AUC = %.3f\" % (r_auc))\n",
    "print(\"Random Forest: AUC = %.3f\" % (rf_auc))\n",
    "\n",
    "#True positive ratio and false positive ratio computations\n",
    "# Random Choice\n",
    "r_fpr, r_tpr, _= roc_curve(y_test, r_probs)\n",
    "#Random Forest model\n",
    "rf_fpr, rf_tpr, _ = roc_curve(y_test, rf_probs)\n",
    "#we plot the ROC curve\n",
    "plt.plot(r_fpr, r_tpr, linestyle='--', label = 'Random prediction (AUC = %0.3f)' % r_auc)\n",
    "#Random Forest model\n",
    "plt.plot(rf_fpr, rf_tpr, linestyle='-', label = 'Random Forest prediction (AUC = %0.3f)' % rf_auc)\n",
    "plt.title('ROC plot, Random Forest for IMDB sentiment dataset')\n",
    "plt.xlabel('False Positive Rate')\n",
    "plt.ylabel('True Positive Rate')\n",
    "\n",
    "plt.legend()\n",
    "\n",
    "plt.show()"
   ]
  },
  {
   "cell_type": "markdown",
   "id": "joint-platform",
   "metadata": {},
   "source": [
    "## Which model is best?\n",
    "\n",
    "#### So far, it seems that Logistic Regression has the advantage over the 2 other classifiers, this could be because the main target for decision trees and forest focuses more on the patterns of the data, whilst logistic regression has the advantage of using the tfidfVectorizer and simply use the sigmoid $\\sigma(x)$ function while counting the words it may find."
   ]
  },
  {
   "cell_type": "code",
   "execution_count": 166,
   "id": "magnetic-thanks",
   "metadata": {},
   "outputs": [
    {
     "data": {
      "text/plain": [
       "Text(0, 0.5, 'True Positive Rate')"
      ]
     },
     "execution_count": 166,
     "metadata": {},
     "output_type": "execute_result"
    },
    {
     "data": {
      "image/png": "[encoded data removed]",
      "text/plain": [
       "<Figure size 432x288 with 1 Axes>"
      ]
     },
     "metadata": {},
     "output_type": "display_data"
    }
   ],
   "source": [
    "#we plot the ROC curve\n",
    "plt.plot(r_fpr, r_tpr, linestyle='--', label = 'Random prediction (AUC = %0.3f)' % r_auc)\n",
    "#Random Forest model\n",
    "plt.plot(rf_fpr, rf_tpr, linestyle='-', label = 'Random Forest prediction (AUC = %0.3f)' % rf_auc)\n",
    "#Decision tree model\n",
    "plt.plot(dt_fpr, dt_tpr, linestyle='-', label = 'Decision Tree prediction (AUC = %0.3f)' % dt_auc)\n",
    "#Logistic Regression model\n",
    "plt.plot(lr_fpr, lr_tpr, linestyle='-', label = 'Logistic Regression prediction (AUC = %0.3f)' % dt_auc)\n",
    "plt.legend(loc='best')\n",
    "plt.title('ROC plot for IMDB sentiment dataset')\n",
    "plt.xlabel('False Positive Rate')\n",
    "plt.ylabel('True Positive Rate')"
   ]
  },
  {
   "cell_type": "code",
   "execution_count": null,
   "id": "turned-marathon",
   "metadata": {},
   "outputs": [],
   "source": []
  }
 ],
 "metadata": {
  "kernelspec": {
   "display_name": "Python 3",
   "language": "python",
   "name": "python3"
  },
  "language_info": {
   "codemirror_mode": {
    "name": "ipython",
    "version": 3
   },
   "file_extension": ".py",
   "mimetype": "text/x-python",
   "name": "python",
   "nbconvert_exporter": "python",
   "pygments_lexer": "ipython3",
   "version": "3.8.5"
  }
 },
 "nbformat": 4,
 "nbformat_minor": 5
}
